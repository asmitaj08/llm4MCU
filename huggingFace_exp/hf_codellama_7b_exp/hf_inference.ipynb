{
 "cells": [
  {
   "cell_type": "code",
   "execution_count": 1,
   "id": "ec1954c3",
   "metadata": {
    "vscode": {
     "languageId": "plaintext"
    }
   },
   "outputs": [],
   "source": [
    "chroma_db_path = \"hf_codellama_7b_exp/chroma_dbs/nRF52840_db\"\n",
    "pickle_path = \"hf_codellama_7b_exp/pickle_files/nRF52840_summarized.pkl\""
   ]
  },
  {
   "cell_type": "code",
   "execution_count": 7,
   "id": "4c2a5be6-69e7-49cb-9a8a-e57a262c622a",
   "metadata": {
    "collapsed": true,
    "jupyter": {
     "outputs_hidden": true
    }
   },
   "outputs": [
    {
     "name": "stdout",
     "output_type": "stream",
     "text": [
      "Collecting peft\n",
      "  Downloading peft-0.15.2-py3-none-any.whl.metadata (13 kB)\n",
      "Requirement already satisfied: numpy>=1.17 in /home/asmita/.conda/envs/llm_env/lib/python3.10/site-packages (from peft) (1.26.4)\n",
      "Requirement already satisfied: packaging>=20.0 in /home/asmita/.conda/envs/llm_env/lib/python3.10/site-packages (from peft) (24.1)\n",
      "Requirement already satisfied: psutil in /home/asmita/.conda/envs/llm_env/lib/python3.10/site-packages (from peft) (5.9.0)\n",
      "Requirement already satisfied: pyyaml in /home/asmita/.conda/envs/llm_env/lib/python3.10/site-packages (from peft) (6.0.2)\n",
      "Requirement already satisfied: torch>=1.13.0 in /home/asmita/.conda/envs/llm_env/lib/python3.10/site-packages (from peft) (2.4.1)\n",
      "Requirement already satisfied: transformers in /home/asmita/.conda/envs/llm_env/lib/python3.10/site-packages (from peft) (4.51.3)\n",
      "Requirement already satisfied: tqdm in /home/asmita/.conda/envs/llm_env/lib/python3.10/site-packages (from peft) (4.66.5)\n",
      "Requirement already satisfied: accelerate>=0.21.0 in /home/asmita/.conda/envs/llm_env/lib/python3.10/site-packages (from peft) (1.6.0)\n",
      "Requirement already satisfied: safetensors in /home/asmita/.conda/envs/llm_env/lib/python3.10/site-packages (from peft) (0.4.5)\n",
      "Requirement already satisfied: huggingface_hub>=0.25.0 in /home/asmita/.conda/envs/llm_env/lib/python3.10/site-packages (from peft) (0.30.2)\n",
      "Requirement already satisfied: filelock in /home/asmita/.conda/envs/llm_env/lib/python3.10/site-packages (from huggingface_hub>=0.25.0->peft) (3.16.1)\n",
      "Requirement already satisfied: fsspec>=2023.5.0 in /home/asmita/.conda/envs/llm_env/lib/python3.10/site-packages (from huggingface_hub>=0.25.0->peft) (2024.9.0)\n",
      "Requirement already satisfied: requests in /home/asmita/.conda/envs/llm_env/lib/python3.10/site-packages (from huggingface_hub>=0.25.0->peft) (2.32.3)\n",
      "Requirement already satisfied: typing-extensions>=3.7.4.3 in /home/asmita/.conda/envs/llm_env/lib/python3.10/site-packages (from huggingface_hub>=0.25.0->peft) (4.11.0)\n",
      "Requirement already satisfied: sympy in /home/asmita/.conda/envs/llm_env/lib/python3.10/site-packages (from torch>=1.13.0->peft) (1.13.3)\n",
      "Requirement already satisfied: networkx in /home/asmita/.conda/envs/llm_env/lib/python3.10/site-packages (from torch>=1.13.0->peft) (3.4.1)\n",
      "Requirement already satisfied: jinja2 in /home/asmita/.conda/envs/llm_env/lib/python3.10/site-packages (from torch>=1.13.0->peft) (3.1.4)\n",
      "Requirement already satisfied: nvidia-cuda-nvrtc-cu12==12.1.105 in /home/asmita/.conda/envs/llm_env/lib/python3.10/site-packages (from torch>=1.13.0->peft) (12.1.105)\n",
      "Requirement already satisfied: nvidia-cuda-runtime-cu12==12.1.105 in /home/asmita/.conda/envs/llm_env/lib/python3.10/site-packages (from torch>=1.13.0->peft) (12.1.105)\n",
      "Requirement already satisfied: nvidia-cuda-cupti-cu12==12.1.105 in /home/asmita/.conda/envs/llm_env/lib/python3.10/site-packages (from torch>=1.13.0->peft) (12.1.105)\n",
      "Requirement already satisfied: nvidia-cudnn-cu12==9.1.0.70 in /home/asmita/.conda/envs/llm_env/lib/python3.10/site-packages (from torch>=1.13.0->peft) (9.1.0.70)\n",
      "Requirement already satisfied: nvidia-cublas-cu12==12.1.3.1 in /home/asmita/.conda/envs/llm_env/lib/python3.10/site-packages (from torch>=1.13.0->peft) (12.1.3.1)\n",
      "Requirement already satisfied: nvidia-cufft-cu12==11.0.2.54 in /home/asmita/.conda/envs/llm_env/lib/python3.10/site-packages (from torch>=1.13.0->peft) (11.0.2.54)\n",
      "Requirement already satisfied: nvidia-curand-cu12==10.3.2.106 in /home/asmita/.conda/envs/llm_env/lib/python3.10/site-packages (from torch>=1.13.0->peft) (10.3.2.106)\n",
      "Requirement already satisfied: nvidia-cusolver-cu12==11.4.5.107 in /home/asmita/.conda/envs/llm_env/lib/python3.10/site-packages (from torch>=1.13.0->peft) (11.4.5.107)\n",
      "Requirement already satisfied: nvidia-cusparse-cu12==12.1.0.106 in /home/asmita/.conda/envs/llm_env/lib/python3.10/site-packages (from torch>=1.13.0->peft) (12.1.0.106)\n",
      "Requirement already satisfied: nvidia-nccl-cu12==2.20.5 in /home/asmita/.conda/envs/llm_env/lib/python3.10/site-packages (from torch>=1.13.0->peft) (2.20.5)\n",
      "Requirement already satisfied: nvidia-nvtx-cu12==12.1.105 in /home/asmita/.conda/envs/llm_env/lib/python3.10/site-packages (from torch>=1.13.0->peft) (12.1.105)\n",
      "Requirement already satisfied: triton==3.0.0 in /home/asmita/.conda/envs/llm_env/lib/python3.10/site-packages (from torch>=1.13.0->peft) (3.0.0)\n",
      "Requirement already satisfied: nvidia-nvjitlink-cu12 in /home/asmita/.conda/envs/llm_env/lib/python3.10/site-packages (from nvidia-cusolver-cu12==11.4.5.107->torch>=1.13.0->peft) (12.6.77)\n",
      "Requirement already satisfied: MarkupSafe>=2.0 in /home/asmita/.conda/envs/llm_env/lib/python3.10/site-packages (from jinja2->torch>=1.13.0->peft) (2.1.3)\n",
      "Requirement already satisfied: charset-normalizer<4,>=2 in /home/asmita/.conda/envs/llm_env/lib/python3.10/site-packages (from requests->huggingface_hub>=0.25.0->peft) (3.3.2)\n",
      "Requirement already satisfied: idna<4,>=2.5 in /home/asmita/.conda/envs/llm_env/lib/python3.10/site-packages (from requests->huggingface_hub>=0.25.0->peft) (3.7)\n",
      "Requirement already satisfied: urllib3<3,>=1.21.1 in /home/asmita/.conda/envs/llm_env/lib/python3.10/site-packages (from requests->huggingface_hub>=0.25.0->peft) (2.2.3)\n",
      "Requirement already satisfied: certifi>=2017.4.17 in /home/asmita/.conda/envs/llm_env/lib/python3.10/site-packages (from requests->huggingface_hub>=0.25.0->peft) (2024.8.30)\n",
      "Requirement already satisfied: mpmath<1.4,>=1.1.0 in /home/asmita/.conda/envs/llm_env/lib/python3.10/site-packages (from sympy->torch>=1.13.0->peft) (1.3.0)\n",
      "Requirement already satisfied: regex!=2019.12.17 in /home/asmita/.conda/envs/llm_env/lib/python3.10/site-packages (from transformers->peft) (2024.9.11)\n",
      "Requirement already satisfied: tokenizers<0.22,>=0.21 in /home/asmita/.conda/envs/llm_env/lib/python3.10/site-packages (from transformers->peft) (0.21.1)\n",
      "Downloading peft-0.15.2-py3-none-any.whl (411 kB)\n",
      "Installing collected packages: peft\n",
      "Successfully installed peft-0.15.2\n",
      "Note: you may need to restart the kernel to use updated packages.\n"
     ]
    }
   ],
   "source": [
    "%pip install peft"
   ]
  },
  {
   "cell_type": "code",
   "execution_count": 2,
   "id": "b0045558-b00c-4ca9-9d6c-dd8495a522c1",
   "metadata": {},
   "outputs": [
    {
     "name": "stderr",
     "output_type": "stream",
     "text": [
      "2025-05-12 18:56:07.851300: E external/local_xla/xla/stream_executor/cuda/cuda_fft.cc:467] Unable to register cuFFT factory: Attempting to register factory for plugin cuFFT when one has already been registered\n",
      "WARNING: All log messages before absl::InitializeLog() is called are written to STDERR\n",
      "E0000 00:00:1747076167.869421  415492 cuda_dnn.cc:8579] Unable to register cuDNN factory: Attempting to register factory for plugin cuDNN when one has already been registered\n",
      "E0000 00:00:1747076167.874976  415492 cuda_blas.cc:1407] Unable to register cuBLAS factory: Attempting to register factory for plugin cuBLAS when one has already been registered\n",
      "W0000 00:00:1747076167.889059  415492 computation_placer.cc:177] computation placer already registered. Please check linkage and avoid linking the same target more than once.\n",
      "W0000 00:00:1747076167.889073  415492 computation_placer.cc:177] computation placer already registered. Please check linkage and avoid linking the same target more than once.\n",
      "W0000 00:00:1747076167.889075  415492 computation_placer.cc:177] computation placer already registered. Please check linkage and avoid linking the same target more than once.\n",
      "W0000 00:00:1747076167.889077  415492 computation_placer.cc:177] computation placer already registered. Please check linkage and avoid linking the same target more than once.\n",
      "2025-05-12 18:56:07.893900: I tensorflow/core/platform/cpu_feature_guard.cc:210] This TensorFlow binary is optimized to use available CPU instructions in performance-critical operations.\n",
      "To enable the following instructions: AVX2 FMA, in other operations, rebuild TensorFlow with the appropriate compiler flags.\n"
     ]
    }
   ],
   "source": [
    "import pickle\n",
    "import time\n",
    "from langchain.prompts import PromptTemplate\n",
    "from langchain_core.output_parsers import StrOutputParser\n",
    "from langchain_chroma import Chroma\n",
    "import base64\n",
    "import os\n",
    "from PIL import Image\n",
    "import pytesseract\n",
    "from io import BytesIO\n",
    "from transformers import BlipProcessor, BlipForConditionalGeneration\n",
    "from langchain_huggingface import HuggingFaceEmbeddings, HuggingFacePipeline\n",
    "from langchain.vectorstores import Chroma\n",
    "from transformers import AutoTokenizer, AutoModelForCausalLM, pipeline, BitsAndBytesConfig\n",
    "import torch\n",
    "from dotenv import load_dotenv\n",
    "import sys\n",
    "from multiprocessing import Pool, cpu_count\n",
    "from tqdm import tqdm\n",
    "from langchain.retrievers.multi_vector import MultiVectorRetriever\n",
    "from langchain.schema.document import Document\n",
    "from langchain.storage import InMemoryStore\n",
    "import uuid\n",
    "from langchain_core.runnables import RunnableLambda, RunnablePassthrough\n",
    "import io\n",
    "import re\n",
    "from IPython.display import HTML, display\n",
    "from PIL import Image\n",
    "from sentence_transformers import SentenceTransformer\n",
    "from sklearn.metrics.pairwise import cosine_similarity\n",
    "from concurrent.futures import ThreadPoolExecutor, as_completed\n",
    "import csv\n",
    "import json\n",
    "import random\n",
    "from peft import PeftModel\n"
   ]
  },
  {
   "cell_type": "code",
   "execution_count": 3,
   "id": "674e2bbb-972d-4935-b740-b9659e914b19",
   "metadata": {},
   "outputs": [],
   "source": [
    "load_dotenv()\n",
    "base_model_id = \"codellama/CodeLlama-7b-Instruct-hf\"\n",
    "# embedd_model = \"sentence-transformers/all-MiniLM-L6-v2\" #will have to experiment with embeddig models\n",
    "# embedd_model = \"intfloat/e5-large-v2\"\n",
    "embedd_model = \"BAAI/bge-large-en-v1.5\""
   ]
  },
  {
   "cell_type": "code",
   "execution_count": 4,
   "id": "ee646082-38d4-4bd8-b2d7-d2327051d49e",
   "metadata": {},
   "outputs": [],
   "source": [
    "embedding = HuggingFaceEmbeddings(model_name=embedd_model)"
   ]
  },
  {
   "cell_type": "code",
   "execution_count": 5,
   "id": "9ba5d67d-9390-4bf4-b601-7ef20f8898df",
   "metadata": {},
   "outputs": [
    {
     "name": "stdout",
     "output_type": "stream",
     "text": [
      "Loading tokenizer...\n",
      "Loading base model...\n"
     ]
    },
    {
     "data": {
      "application/vnd.jupyter.widget-view+json": {
       "model_id": "ad814dcaea164f1f9e9a4f629b12b6a1",
       "version_major": 2,
       "version_minor": 0
      },
      "text/plain": [
       "Loading checkpoint shards:   0%|          | 0/2 [00:00<?, ?it/s]"
      ]
     },
     "metadata": {},
     "output_type": "display_data"
    }
   ],
   "source": [
    "print(\"Loading tokenizer...\")\n",
    "tokenizer = AutoTokenizer.from_pretrained(base_model_id, use_fast=True)\n",
    "\n",
    "print(\"Loading base model...\")\n",
    "bnb_config = BitsAndBytesConfig(\n",
    "    load_in_4bit=True,\n",
    "    bnb_4bit_compute_dtype=torch.float16,\n",
    "    bnb_4bit_use_double_quant=True,\n",
    "    bnb_4bit_quant_type=\"nf4\"\n",
    ")\n",
    "\n",
    "model = AutoModelForCausalLM.from_pretrained(\n",
    "    base_model_id,\n",
    "    device_map=\"auto\",\n",
    "    quantization_config=bnb_config,\n",
    "    torch_dtype=torch.float16\n",
    ")\n"
   ]
  },
  {
   "cell_type": "code",
   "execution_count": 6,
   "id": "01efa80e-af28-4b7b-8d96-f03602eb95d6",
   "metadata": {},
   "outputs": [
    {
     "name": "stderr",
     "output_type": "stream",
     "text": [
      "Device set to use cuda:0\n"
     ]
    }
   ],
   "source": [
    "\n",
    "# Create Hugging Face pipeline\n",
    "pipe = pipeline(\n",
    "    \"text-generation\",\n",
    "    model=model,\n",
    "    tokenizer=tokenizer,\n",
    "    pad_token_id=model.config.eos_token_id, #avoiding warning Setting `pad_token_id` to `eos_token_id`:2 for open-end generation.\n",
    "    max_new_tokens=512,\n",
    "    # temperature=0.0, # no need as do_sample=False\n",
    "    do_sample=False,\n",
    "    return_full_text=False\n",
    ")\n",
    "\n",
    "# Wrap it in LangChain-compatible interface\n",
    "model_pipe = HuggingFacePipeline(pipeline=pipe)"
   ]
  },
  {
   "cell_type": "code",
   "execution_count": 7,
   "id": "63ba4a4c-58d9-49c2-87ba-619d23530546",
   "metadata": {},
   "outputs": [],
   "source": [
    "def load_chroma_db(local_directory=chroma_db_path):\n",
    "    return Chroma(persist_directory=local_directory, embedding_function=embedding)"
   ]
  },
  {
   "cell_type": "code",
   "execution_count": 297,
   "id": "7b77592d-5f3c-4263-bb90-b0b903c5900f",
   "metadata": {},
   "outputs": [],
   "source": [
    "def create_multi_vector_retriever(vectorstore, text_summaries, texts, table_summaries, tables, image_summaries, images, image_ocr_raw):\n",
    "    \"\"\"\n",
    "    Create retriever that indexes summaries, but returns raw images or texts\n",
    "    \"\"\"\n",
    "    # Initialize the storage layer\n",
    "    store = InMemoryStore()\n",
    "    id_key = \"doc_id\"\n",
    "\n",
    "    # Create the multi-vector retriever\n",
    "    retriever = MultiVectorRetriever(\n",
    "        vectorstore=vectorstore,\n",
    "        docstore=store,\n",
    "        id_key=id_key,\n",
    "    )\n",
    "    \n",
    "    # Helper function to add documents to the vectorstore and docstore\n",
    "    def add_documents(retriever, doc_summaries, doc_contents):\n",
    "        doc_ids = [str(uuid.uuid4()) for _ in doc_contents]\n",
    "        summary_docs = [\n",
    "            Document(page_content=s, metadata={id_key: doc_ids[i]})\n",
    "            for i, s in enumerate(doc_summaries)\n",
    "        ]\n",
    "        retriever.vectorstore.add_documents(summary_docs)\n",
    "        retriever.docstore.mset(list(zip(doc_ids, doc_contents)))\n",
    "\n",
    "    # Add texts, tables, and images\n",
    "    # Check that text_summaries is not empty before adding\n",
    "    if text_summaries:\n",
    "        add_documents(retriever, text_summaries, texts)\n",
    "    # Check that table_summaries is not empty before adding\n",
    "    if table_summaries:\n",
    "        add_documents(retriever, table_summaries, tables)\n",
    "    # Check that image_summaries is not empty before adding\n",
    "    if image_summaries:\n",
    "        # add_documents(retriever, image_summaries, images) #changing this as codellama doesn't deal directly with images\n",
    "        add_documents(retriever, image_summaries, image_ocr_raw)\n",
    "        # add_documents(retriever, image_summaries, image_summaries)\n",
    "\n",
    "    return retriever"
   ]
  },
  {
   "cell_type": "code",
   "execution_count": 22,
   "id": "8435c003-a90e-48f8-ad25-912c9b3199fb",
   "metadata": {},
   "outputs": [],
   "source": [
    "import io\n",
    "import re\n",
    "\n",
    "from IPython.display import HTML, display\n",
    "from langchain.schema.runnable import RunnableLambda, RunnablePassthrough\n",
    "from PIL import Image\n",
    "\n",
    "\n",
    "def plt_img_base64(img_base64):\n",
    "    \"\"\"Disply base64 encoded string as image\"\"\"\n",
    "    # Create an HTML img tag with the base64 string as the source\n",
    "    image_html = f'<img src=\"data:image/jpeg;base64,{img_base64}\" />'\n",
    "    # Display the image by rendering the HTML\n",
    "    display(HTML(image_html))\n",
    "\n",
    "def looks_like_base64(sb):\n",
    "    \"\"\"Check if the string looks like base64\"\"\"\n",
    "    return re.match(\"^[A-Za-z0-9+/]+[=]{0,2}$\", sb) is not None\n",
    "\n",
    "\n",
    "def is_image_data(b64data):\n",
    "    \"\"\"\n",
    "    Check if the base64 data is an image by looking at the start of the data\n",
    "    \"\"\"\n",
    "    image_signatures = {\n",
    "        b\"\\xFF\\xD8\\xFF\": \"jpg\",\n",
    "        b\"\\x89\\x50\\x4E\\x47\\x0D\\x0A\\x1A\\x0A\": \"png\",\n",
    "        b\"\\x47\\x49\\x46\\x38\": \"gif\",\n",
    "        b\"\\x52\\x49\\x46\\x46\": \"webp\",\n",
    "    }\n",
    "    try:\n",
    "        header = base64.b64decode(b64data)[:8]  # Decode and get the first 8 bytes\n",
    "        for sig, format in image_signatures.items():\n",
    "            if header.startswith(sig):\n",
    "                return True\n",
    "        return False\n",
    "    except Exception:\n",
    "        return False\n",
    "\n",
    "def resize_base64_image(base64_string, size=(128, 128)):\n",
    "    \"\"\"\n",
    "    Resize an image encoded as a Base64 string\n",
    "    \"\"\"\n",
    "    # Decode the Base64 string\n",
    "    img_data = base64.b64decode(base64_string)\n",
    "    img = Image.open(io.BytesIO(img_data))\n",
    "\n",
    "    # Resize the image\n",
    "    resized_img = img.resize(size, Image.LANCZOS)\n",
    "\n",
    "    # Save the resized image to a bytes buffer\n",
    "    buffered = io.BytesIO()\n",
    "    resized_img.save(buffered, format=img.format)\n",
    "\n",
    "    # Encode the resized image to Base64\n",
    "    return base64.b64encode(buffered.getvalue()).decode(\"utf-8\")\n",
    "\n",
    "# def split_image_text_types(docs):\n",
    "#     \"\"\"\n",
    "#     Split base64-encoded images and texts\n",
    "#     \"\"\"\n",
    "#     b64_images = []\n",
    "#     texts = []\n",
    "#     for doc in docs:\n",
    "#         # Check if the document is of type Document and extract page_content if so\n",
    "#         if isinstance(doc, Document):\n",
    "#             doc = doc.page_content\n",
    "#         if looks_like_base64(doc) and is_image_data(doc):\n",
    "#             doc = resize_base64_image(doc, size=(1300, 600))\n",
    "#             b64_images.append(doc)\n",
    "#         else:\n",
    "#             texts.append(doc)\n",
    "#     if len(b64_images) > 0:\n",
    "#         return {\"images\": b64_images[:1], \"texts\": []}\n",
    "#     return {\"images\": b64_images, \"texts\": texts}\n",
    "\n",
    "def split_image_text_types(docs):\n",
    "    b64_images = []\n",
    "    texts = []\n",
    "    for doc in docs:\n",
    "        if isinstance(doc, Document):\n",
    "            content = doc.page_content\n",
    "        else:\n",
    "            content = doc\n",
    "\n",
    "        # If this document is a base64 image (raw), skip it\n",
    "        if looks_like_base64(content) and is_image_data(content): #we don'rt need it in this case as we r not dealing with images during inferences\n",
    "            print(\"\\n**********found base64\")\n",
    "            continue  # raw image, not usable here\n",
    "        else:\n",
    "            texts.append(content)\n",
    "\n",
    "    return {\"images\": [], \"texts\": texts}\n",
    "\n"
   ]
  },
  {
   "cell_type": "code",
   "execution_count": 23,
   "id": "474ad6b7-5cc0-42cc-a4a8-9131d18af044",
   "metadata": {
    "jupyter": {
     "source_hidden": true
    }
   },
   "outputs": [],
   "source": [
    "# def img_prompt_func(data_dict):\n",
    "#     \"\"\"\n",
    "#     Join the context into a single string\n",
    "#     \"\"\"\n",
    "#     messages = []\n",
    "\n",
    "#     # Adding the text for analysis\n",
    "#     text_message = {\n",
    "#         \"type\": \"text\",\n",
    "#         \"text\": (\n",
    "#             \"You are an AI scientist tasking with providing factual answers from a datasheet of a System-on-Chip (SoC) \\n\"\n",
    "#             \"Use this information to provide answers related to the user question. \\n\"\n",
    "#             f\"User-provided question: {data_dict['question']}\\n\\n\"\n",
    "#         ),\n",
    "#     }\n",
    "#     messages.append(text_message)\n",
    "#     # Adding image(s) to the messages if present\n",
    "#     if data_dict[\"context\"][\"images\"]:\n",
    "#         for image in data_dict[\"context\"][\"images\"]:\n",
    "#             image_message = {\n",
    "#                 \"type\": \"image_url\",\n",
    "#                 \"image_url\": {\"url\": f\"data:image/jpeg;base64,{image}\"},\n",
    "#             }\n",
    "#             messages.append(image_message)\n",
    "#     return [HumanMessage(content=messages)]\n",
    "\n",
    "# def text_only_prompt_func(data_dict):\n",
    "#     context = \"\\n\".join(data_dict[\"context\"][\"texts\"])\n",
    "\n",
    "#     return f\"\"\"\n",
    "# You are an AI assistant helping analyze System-on-Chip (SoC) datasheets.\n",
    "# Answer the following question using the provided datasheet context only.\n",
    "\n",
    "# Question:\n",
    "# {data_dict[\"question\"]}\n",
    "\n",
    "# Context:\n",
    "# {context}\n",
    "# \"\"\"\n",
    "\n",
    "# def text_only_prompt_func(data_dict):\n",
    "#     \"\"\"\n",
    "#     Formats the retrieved context into a plain prompt string for HuggingFacePipeline\n",
    "#     \"\"\"\n",
    "#     # prompt = (\n",
    "#     #     \"You are an AI assistant helping interpret information from a datasheet of a System-on-Chip (SoC).\\n\"\n",
    "#     #     \"Answer the user's question using the relevant text summaries provided below.\\n\\n\"\n",
    "#     #     f\"User Question:\\n{data_dict['question']}\\n\\n\"\n",
    "#     # )\n",
    "#     prompt = (\n",
    "#         \"You are an expert assistant for Microcontroller datasheets.\\n\"\n",
    "#         \"Answer the user question concisely based  on the context provided.\\n\"\n",
    "#         \"Do not repeat the context. Do not explain your reasoning. Just give the final answer.\\n\\n\"\n",
    "#         f\"User question: {data_dict['question']}\\n\\n\"\n",
    "#     )\n",
    "\n",
    "#     if data_dict[\"context\"][\"texts\"]:\n",
    "#         prompt += \"Relevant Context:\\n\" + \"\\n\\n\".join(data_dict[\"context\"][\"texts\"])\n",
    "\n",
    "#     return prompt\n",
    "\n",
    "# def text_only_prompt_func(data_dict):\n",
    "#     \"\"\"\n",
    "#     Formats a CodeLLaMA-compatible prompt with summaries and question.\n",
    "#     \"\"\"\n",
    "#     prompt = (\n",
    "#         \"[INST] <<SYS>> You are an expert on microcontrollers and can provide detailed information about their peripherals, registers, and fields.\\n\"\n",
    "#         \"Answer the user question concisely based  on the context provided.\\n\"\n",
    "#         \"ONLY output the direct answer as a word, number, address, or short phrase.\\n\"\n",
    "#         \"Do NOT repeat the question or context. Do NOT give explanations or full sentences.\\n\\n\"\n",
    "#         # f\"User question: {data_dict['question']}\\n\\n\"\n",
    "#     )\n",
    "#     if data_dict[\"context\"][\"texts\"]:\n",
    "#         prompt += \"Relevant Context:\\n\" + \"\\n\\n\".join(data_dict[\"context\"][\"texts\"]) + \"<</SYS>>\"\n",
    "\n",
    "#     # instruction_block = (\n",
    "#     #         f\"Context:\\n{prompt}\\n\\n\"\n",
    "#     #         f\"Question: {data_dict['question']}\"\n",
    "#     # )\n",
    "\n",
    "#     instruction_block = (\n",
    "#             f\"Context:\\n{prompt}\\n\\n\"\n",
    "#             f\"Question: {data_dict['question']}\"\n",
    "#     )\n",
    "#     # context=\"\"\n",
    "#     # if data_dict[\"context\"][\"texts\"]:\n",
    "#     #     context = \"\\n\".join(data_dict[\"context\"][\"texts\"])\n",
    "#     # formatted_prompt = (\n",
    "#     #     f\"### Instruction:\\n{prompt}\\n\"\n",
    "#     #     f\"Context:\\n{context}\\n\\n\"\n",
    "#     #     f\"Question: {data_dict['question']}\\n\\n\"\n",
    "#     #     f\"### Response:\\n\"\n",
    "#     # )\n",
    "\n",
    "#     # else:\n",
    "#     #     instruction_block = {data_dict['question']}\n",
    "        \n",
    "\n",
    "#     # Final CodeLLaMA prompt format\n",
    "#     return f\"### Instruction:\\n{instruction_block}\\n\\n### Response:\\n\"\n",
    "#     # return formatted_prompt\n",
    "\n"
   ]
  },
  {
   "cell_type": "code",
   "execution_count": 24,
   "id": "0d457c1d-06df-48ab-aa7a-cc5a6d9e85ff",
   "metadata": {},
   "outputs": [],
   "source": [
    "# def text_only_prompt_func(data_dict):\n",
    "#     system_prompt = (\n",
    "#         \"You are an expert on microcontrollers and can provide detailed information about their peripherals, registers, and fields.\\n\"\n",
    "#         \"You will only respond with a short answer: a word, names, hex address, or number.\\n\"\n",
    "#          \"Do not explain. Do not write full sentences.\"\n",
    "#     )\n",
    "\n",
    "#     context_block = \"\\n\\n\".join(data_dict[\"context\"][\"texts\"]) if data_dict[\"context\"][\"texts\"] else \"\"\n",
    "\n",
    "#     prompt = (\n",
    "#         \"[INST] <<SYS>>\\n\"\n",
    "#         f\"{system_prompt}\\n\"\n",
    "#         \"<</SYS>>\\n\\n\"\n",
    "#         f\"Relevant context:\\n{context_block}\\n\\n\"\n",
    "#         f\"Question: {data_dict['question']} [/INST]\"\n",
    "#     )\n",
    "\n",
    "#     return prompt\n"
   ]
  },
  {
   "cell_type": "code",
   "execution_count": 224,
   "id": "62e81e4b-4a7d-41a8-8e98-c47b63e25e50",
   "metadata": {},
   "outputs": [],
   "source": [
    "def text_only_prompt_func(data_dict):\n",
    "    system_prompt = (\n",
    "        \"You are an expert on microcontrollers and can provide detailed information about their peripherals, registers, and fields.\\n\"\n",
    "        \"ONLY answer with valid register names, addresses, values or lists.\\n\"\n",
    "        \"Do NOT provide full sentence for the answer\\n\"\n",
    "        \"Do not explain. Do not repeat the question.\"\n",
    "    )\n",
    "\n",
    "#     system_prompt = (\n",
    "#     \"You are an expert in microcontrollers. Provide accurate, concise information about peripherals, registers, addresses, and field values.\\n\\n\"\n",
    "#     \"Answer STRICTLY based on the question intent:\\n\"\n",
    "#     \"- If asked for an address → respond with address only (hex format).\\n\"\n",
    "#     \"- If asked for a value/size → respond with value/size only.\\n\"\n",
    "#     \"- If asked for a description → respond with a **short** technical description.\\n\"\n",
    "#     \"- If asked for a list (registers, fields, etc.) → respond with a **list of names only**.\\n\\n\"\n",
    "#     \"NEVER explain, NEVER repeat the question.\\n\"\n",
    "#     \"NO extra context, NO full sentences unless inherently required (e.g., description).\\n\"\n",
    "#     \"Be precise. Output ONLY the requested information.\"\n",
    "# )\n",
    "    # system_prompt = (\n",
    "    # \"You are an expert in microcontrollers. Provide accurate, concise information about peripherals, registers, addresses, and field values.\\n\\n\"\n",
    "    # \"ONLY answer with valid register names, addresses, values or lists STRICTLY based on the question intent\\n\"\n",
    "    # \"NEVER explain, NEVER repeat the question.\\n\"\n",
    "    # \"NO extra context, NO full sentences unless inherently required (e.g., description).\\n\"\n",
    "    # \"Be precise. Output ONLY the requested information.\"\n",
    "    # )\n",
    "    \n",
    "\n",
    "#     few_shot_examples = \"\"\"\\\n",
    "# Example 1:\n",
    "# Question: What is the base address of the SPI peripheral?\n",
    "# Answer: 0x40003000\n",
    "\n",
    "# Example 2:\n",
    "# Question: What is the address of the TASKS_CTSTART register?\n",
    "# Answer: 0x5000000C\n",
    "\n",
    "# Example 3:\n",
    "# Question: What is the reset value of the INTENCLR register?\n",
    "# Answer: 0x00000000\n",
    "\n",
    "# Example 4:\n",
    "# Question: What are the registers in the RTC peripheral?\n",
    "# Answer: CTRL, STATUS, COMP, INTEN\n",
    "# \"\"\"\n",
    "    # if not data_dict[\"context\"][\"texts\"] :\n",
    "    #     print(\"*****No context retrived\")\n",
    "        \n",
    "    # Actual RAG-sourced context\n",
    "    context = \"\\n- \" + \"\\n- \".join(data_dict[\"context\"][\"texts\"]) if data_dict[\"context\"][\"texts\"] else \"\"\n",
    "    question = data_dict[\"question\"]\n",
    "    few_shot_examples = data_dict[\"few_shot_examples\"]\n",
    "\n",
    "    prompt = (\n",
    "        \"[INST] <<SYS>>\\n\"\n",
    "        f\"{system_prompt}\\n\"\n",
    "        \"<</SYS>>\\n\\n\"\n",
    "        # # f\"{few_shot_examples}\\n\"\n",
    "        # f\"Now answer:\\n\"\n",
    "    )\n",
    "    if few_shot_examples :\n",
    "        print(f\"****few_shot_examples : {few_shot_examples}\")\n",
    "        prompt += f\"{few_shot_examples}\\n\"\n",
    "    else :\n",
    "        print(\"*****No few_shot examples\")\n",
    "    prompt += f\"Now answer:\\n\"\n",
    "    if context:\n",
    "        prompt += f\"Context:{context}\\n\"\n",
    "    else:\n",
    "        print(\"*****No context retrived\")\n",
    "\n",
    "    prompt += f\"Question: {question}\\nAnswer: [/INST]\"\n",
    "    return prompt\n"
   ]
  },
  {
   "cell_type": "code",
   "execution_count": 225,
   "id": "8792c63a-44ca-43c6-beb3-789ee1b7bdd0",
   "metadata": {},
   "outputs": [],
   "source": [
    "def text_only_prompt_func_ft(data_dict):\n",
    "    \"\"\"\n",
    "    Formats a CodeLLaMA-compatible prompt with summaries and question.\n",
    "    \"\"\"\n",
    "    prompt = \"[INST] <<SYS>> You are an expert on microcontrollers and can provide detailed information about their peripherals, registers, and fields. <</SYS>>\"\n",
    "    if data_dict[\"context\"][\"texts\"]:\n",
    "        prompt += \"Relevant Context:\\n\" + \"\\n\\n\".join(data_dict[\"context\"][\"texts\"])\n",
    "\n",
    "    instruction_block = (\n",
    "            f\"Context:\\n{prompt}\\n\\n\"\n",
    "            f\"Question: {data_dict['question']} [/INST]\"\n",
    "        )\n",
    "    # Final CodeLLaMA prompt format\n",
    "    return f\"### Instruction:\\n{instruction_block}\\n\\n### Response:\\n\"\n",
    "    # return formatted_prompt\n"
   ]
  },
  {
   "cell_type": "code",
   "execution_count": 226,
   "id": "5283e709-ac9c-4ff9-9da0-6a02c8a0b974",
   "metadata": {},
   "outputs": [],
   "source": [
    "def multi_modal_rag_chain(retriever, model_arg, ft=0):\n",
    "    \"\"\"\n",
    "    Multi-modal RAG chain\n",
    "    \"\"\"\n",
    "\n",
    "    # RAG pipeline\n",
    "    if ft==0 :\n",
    "        chain = (\n",
    "            {\n",
    "                \"context\": RunnableLambda(lambda x: x[\"question\"]) | retriever | RunnableLambda(split_image_text_types),\n",
    "                \"question\": RunnablePassthrough(),\n",
    "                \"few_shot_examples\": RunnablePassthrough(),\n",
    "            }\n",
    "            | RunnableLambda(text_only_prompt_func)\n",
    "            | model_arg  # MM_LLM\n",
    "            | StrOutputParser()\n",
    "        )\n",
    "    # else :\n",
    "    #     chain = (\n",
    "    #     {\n",
    "    #         \"context\": retriever | RunnableLambda(split_image_text_types),\n",
    "    #         \"question\": RunnablePassthrough(),\n",
    "    #     }\n",
    "    #     | RunnableLambda(text_only_prompt_func_ft)\n",
    "    #     | model_arg  # MM_LLM\n",
    "    #     | StrOutputParser()\n",
    "    #     )\n",
    "\n",
    "    return chain"
   ]
  },
  {
   "cell_type": "code",
   "execution_count": 298,
   "id": "3027535f-3e13-40b8-8043-8d017f3dd337",
   "metadata": {},
   "outputs": [],
   "source": [
    "def init_rag(chroma_path, pickle_path, model_arg,ft=0):\n",
    "    # if os.path.exists(db_path) and os.path.exists(pickle_path):\n",
    "    print(\"Loading existing Chroma database...\")\n",
    "    vectorstore = load_chroma_db(chroma_path)\n",
    "    \n",
    "    with open(pickle_path, 'rb') as f:\n",
    "        loaded_data = pickle.load(f)\n",
    "\n",
    "    # Access the variables\n",
    "    texts = loaded_data['texts']\n",
    "    tables = loaded_data['tables']\n",
    "    text_summaries = loaded_data['text_summaries']\n",
    "    table_summaries = loaded_data['table_summaries']\n",
    "    img_base64_list = loaded_data['img_base64_list']\n",
    "    image_summaries = loaded_data['image_summaries']\n",
    "    img_raw_ocr = loaded_data['img_raw_ocr']\n",
    "\n",
    "    retriever_multi_vector_img = create_multi_vector_retriever(\n",
    "        vectorstore,\n",
    "        text_summaries,\n",
    "        texts,\n",
    "        table_summaries,\n",
    "        tables,\n",
    "        image_summaries,\n",
    "        img_base64_list,\n",
    "        img_raw_ocr,\n",
    "    )\n",
    "    chain_multimodal_rag = multi_modal_rag_chain(retriever_multi_vector_img, model_arg,ft)\n",
    "    return chain_multimodal_rag,retriever_multi_vector_img"
   ]
  },
  {
   "cell_type": "code",
   "execution_count": 228,
   "id": "225b8c8e-8207-4556-8ce9-645cd8dedd1d",
   "metadata": {},
   "outputs": [],
   "source": [
    "# def ask_bot(chain_multimodal_rag, query):\n",
    "#     # docs = retriever_multi_vector_img.get_relevant_documents(query, limit=10)\n",
    "#     # print(split_image_text_types(docs))\n",
    "#     return chain_multimodal_rag.invoke(query)"
   ]
  },
  {
   "cell_type": "code",
   "execution_count": 299,
   "id": "c3e1d2a8-cd73-44da-aaa4-1aabbc9547e0",
   "metadata": {},
   "outputs": [
    {
     "name": "stdout",
     "output_type": "stream",
     "text": [
      "Loading existing Chroma database...\n"
     ]
    }
   ],
   "source": [
    "rag_pipeline, retriever_multi_vector_img = init_rag(chroma_db_path, pickle_path, model_pipe,ft=0)"
   ]
  },
  {
   "cell_type": "code",
   "execution_count": 243,
   "id": "d34f2307-0186-40ba-85b5-3c0eac12808c",
   "metadata": {},
   "outputs": [],
   "source": [
    "import re\n",
    "\n",
    "def ask_bot(chain_multimodal_rag, query,few_shot_examples=\"\"):\n",
    "    raw_output = chain_multimodal_rag.invoke({\n",
    "        \"question\":query,\n",
    "        \"few_shot_examples\":few_shot_examples,\n",
    "    })\n",
    "    print(f\"Raw output : {raw_output}\\n\")\n",
    "    print(\"*********************\")\n",
    "\n",
    "    for line in raw_output.strip().splitlines():\n",
    "        if line.strip():\n",
    "            return line.strip()\n",
    "    return raw_output.strip()  # fallback if no lines found\n",
    "\n",
    "    # # Extract after prompt marker\n",
    "    # if \"### Response:\" in raw_output:\n",
    "    #     answer = raw_output.split(\"### Response:\")[-1].strip()\n",
    "    # else:\n",
    "    #     answer = raw_output.strip()\n",
    "    # print(f\"Answer : {answer}\\n\")\n",
    "    # print(\"################\")\n",
    "    # # Normalize: clean each line\n",
    "    # lines = [\n",
    "    #     re.sub(r\"[.,:;!?]+$\", \"\", line.strip())  # Remove trailing punctuation\n",
    "    #     for line in answer.splitlines()\n",
    "    #     if line.strip()\n",
    "    # ]\n",
    "\n",
    "    # return \", \".join(lines)\n"
   ]
  },
  {
   "cell_type": "code",
   "execution_count": 316,
   "id": "264ae6fa-bca2-478e-9a83-4cfc5c633023",
   "metadata": {},
   "outputs": [],
   "source": [
    "def ask_bot_manual(retriever_multi_vector_img, question, curr_model,few_shot_examples=None) -> str:\n",
    "    # Step 1: Retrieve relevant summaries (text + table + image) via RAG\n",
    "    docs = retriever_multi_vector_img.get_relevant_documents(question)\n",
    "    summaries = [\n",
    "    doc if isinstance(doc, str) else doc.page_content for doc in docs\n",
    "   ]\n",
    "\n",
    "    # system_prompt = (\n",
    "    #     \"You are an expert on microcontrollers and can provide detailed information about their peripherals, registers, and fields.\\n\"\n",
    "    #     \"Answer the user question concisely based  on the context provided.\\n\"\n",
    "    #     \"ONLY output the direct answer as a word, number, address, or short phrase.\\n\"\n",
    "    #     \"Do NOT repeat the question or context. Do NOT give explanations or full sentences.\\n\\n\"\n",
    "    #     # f\"User question: {data_dict['question']}\\n\\n\"\n",
    "    # )\n",
    "\n",
    "    system_prompt = (\n",
    "        \"You are an expert on microcontrollers and can provide detailed information about their peripherals, registers, and fields.\\n\"\n",
    "        \"ONLY answer with valid register names, addresses, values or lists.\\n\"\n",
    "        \"Do NOT provide full sentence for the answer\\n\"\n",
    "        \"Do not explain. Do not repeat the question.\"\n",
    "    )\n",
    "\n",
    "    context = \"\\n- \" + \"\\n- \".join(summaries) if summaries else \"\"\n",
    "\n",
    "    prompt = (\n",
    "        \"[INST] <<SYS>>\\n\"\n",
    "        f\"{system_prompt}\\n\"\n",
    "        \"<</SYS>>\\n\\n\"\n",
    "        # # f\"{few_shot_examples}\\n\"\n",
    "        # f\"Now answer:\\n\"\n",
    "    )\n",
    "    if few_shot_examples :\n",
    "        print(f\"****few_shot_examples : {few_shot_examples}\")\n",
    "        prompt += f\"{few_shot_examples}\\n\"\n",
    "    else :\n",
    "        print(\"*****No few_shot examples\")\n",
    "    prompt += f\"Now answer:\\n\"\n",
    "    if context:\n",
    "        prompt += f\"Context:{context}\\n\"\n",
    "    else:\n",
    "        print(\"*****No context retrived\")\n",
    "\n",
    "    prompt += f\"Question: {question}\\nAnswer: [/INST]\"\n",
    "    # return prompt\n",
    "\n",
    "\n",
    "    # # Step 2: Build context prompt\n",
    "    # context = \"\\n\".join(summaries)\n",
    "    # formatted_prompt = (\n",
    "    #     f\"### Instruction:\\n{prompt}\\n\"\n",
    "    #     f\"Context:\\n{context}\\n\\n\"\n",
    "    #     f\"Question: {question}\\n\\n\"\n",
    "    #     f\"### Response:\\n\"\n",
    "    # )\n",
    "\n",
    "    # Step 3: Tokenize and generate\n",
    "    inputs = tokenizer(prompt, return_tensors=\"pt\").to(curr_model.device)\n",
    "    with torch.no_grad():\n",
    "        outputs = curr_model.generate(\n",
    "            **inputs,\n",
    "            max_new_tokens=768,\n",
    "            # temperature=0.7,  \n",
    "            # top_p=0.95,\n",
    "            # do_sample=True,\n",
    "            do_sample=False,\n",
    "            pad_token_id=model.config.eos_token_id\n",
    "        )\n",
    "    generated_text = tokenizer.decode(outputs[0], skip_special_tokens=True)\n",
    "\n",
    "    # Step 4: Extract answer cleanly\n",
    "    answer = generated_text.replace(prompt, \"\").strip()\n",
    "    return answer.split(\"\\n\")[0].strip()\n",
    "    # return answer\n"
   ]
  },
  {
   "cell_type": "code",
   "execution_count": 317,
   "id": "0b9cb116-445d-4d6e-95ac-d18fba306a10",
   "metadata": {
    "jupyter": {
     "source_hidden": true
    }
   },
   "outputs": [],
   "source": [
    "def ask_bot_new1(prompt_chain, question: str) -> str:\n",
    "    # Step 1: Generate the full CodeLLaMA-style prompt using the chain\n",
    "    formatted_prompt = prompt_chain.invoke(question)\n",
    "\n",
    "    # Step 2: Run your manual inference\n",
    "    inputs = tokenizer(formatted_prompt, return_tensors=\"pt\").to(model.device)\n",
    "    with torch.no_grad():\n",
    "        outputs = model.generate(\n",
    "            **inputs,\n",
    "            max_new_tokens=768,\n",
    "            # temperature=0.7,\n",
    "            top_p=0.95,\n",
    "            do_sample=False,\n",
    "            pad_token_id=model.config.eos_token_id #avoiding warning Setting `pad_token_id` to `eos_token_id`:2 for open-end generation.\n",
    "\n",
    "        )\n",
    "    generated_text = tokenizer.decode(outputs[0], skip_special_tokens=True)\n",
    "\n",
    "    # Step 3: Extract only the answer\n",
    "    return generated_text.replace(formatted_prompt, \"\").strip()\n"
   ]
  },
  {
   "cell_type": "code",
   "execution_count": 318,
   "id": "1eb50293-3d24-4bec-8cf5-8c532c8e1d0e",
   "metadata": {},
   "outputs": [],
   "source": [
    "few_shot_examples_t = \"\"\"\\\n",
    "Example 1:\n",
    "Question: What is the base address of the SPI peripheral for nrf52840 Microcontroller?\n",
    "Answer: 0x40003000\n",
    "\n",
    "Example 2:\n",
    "Question: What is the address of the TASKS_CTSTART register for nrf52840 Microcontroller?\n",
    "Answer: 0x5000000C\n",
    "\n",
    "Example 3:\n",
    "Question: What is the reset value of the INTENCLR register for nrf52840 Microcontroller?\n",
    "Answer: 0x00000000\n",
    "\n",
    "Example 4:\n",
    "Question: What are the registers in the RTC peripheral for nrf52840 Microcontroller?\n",
    "Answer: CTRL, STATUS, COMP, INTEN\n",
    "\"\"\""
   ]
  },
  {
   "cell_type": "code",
   "execution_count": 319,
   "id": "185354ba-5534-49e8-ba73-581a105c3edd",
   "metadata": {
    "scrolled": true
   },
   "outputs": [
    {
     "name": "stdout",
     "output_type": "stream",
     "text": [
      "****few_shot_examples : Example 1:\n",
      "Question: What is the base address of the SPI peripheral for nrf52840 Microcontroller?\n",
      "Answer: 0x40003000\n",
      "\n",
      "Example 2:\n",
      "Question: What is the address of the TASKS_CTSTART register for nrf52840 Microcontroller?\n",
      "Answer: 0x5000000C\n",
      "\n",
      "Example 3:\n",
      "Question: What is the reset value of the INTENCLR register for nrf52840 Microcontroller?\n",
      "Answer: 0x00000000\n",
      "\n",
      "Example 4:\n",
      "Question: What are the registers in the RTC peripheral for nrf52840 Microcontroller?\n",
      "Answer: CTRL, STATUS, COMP, INTEN\n",
      "\n"
     ]
    },
    {
     "data": {
      "text/plain": [
       "'CTRL, STATUS, INTENCLR, INTENSET, RXDATAX, TXDATAX, RXDATAP, RXDATAP, RXADDRESS, RXADDRESS, RXPTR, RXTXDATAX, RXTXDATAP, RXTXADDRESS, RXTXPTR, BASIS, LIMIT, LIMIT, LIMIT, LIMIT, LIMIT, LIMIT, LIMIT, LIMIT, LIMIT, LIMIT, LIMIT, LIMIT, LIMIT, LIMIT, LIMIT, LIMIT, LIMIT, LIMIT, LIMIT, LIMIT, LIMIT, LIMIT, LIMIT, LIMIT, LIMIT, LIMIT, LIMIT, LIMIT, LIMIT, LIMIT, LIMIT, LIMIT, LIMIT, LIMIT, LIMIT, LIMIT, LIMIT, LIMIT, LIMIT, LIMIT, LIMIT, LIMIT, LIMIT, LIMIT, LIMIT, LIMIT, LIMIT, LIMIT, LIMIT, LIMIT, LIMIT, LIMIT, LIMIT, LIMIT, LIMIT, LIMIT, LIMIT, LIMIT, LIMIT, LIMIT, LIMIT, LIMIT, LIMIT, LIMIT, LIMIT, LIMIT, LIMIT, LIMIT, LIMIT, LIMIT, LIMIT, LIMIT, LIMIT, LIMIT, LIMIT, LIMIT, LIMIT, LIMIT, LIMIT, LIMIT, LIMIT, LIMIT, LIMIT, LIMIT, LIMIT, LIMIT, LIMIT, LIMIT, LIMIT, LIMIT, LIMIT, LIMIT, LIMIT, LIMIT, LIMIT, LIMIT, LIMIT, LIMIT, LIMIT, LIMIT, LIMIT, LIMIT, LIMIT, LIMIT, LIMIT, LIMIT, LIMIT, LIMIT, LIMIT, LIMIT, LIMIT, LIMIT, LIMIT, LIMIT, LIMIT, LIMIT, LIMIT, LIMIT, LIMIT, LIMIT, LIMIT, LIMIT, LIMIT, LIMIT, LIMIT, LIMIT, LIMIT, LIMIT, LIMIT, LIMIT, LIMIT, LIMIT, LIMIT, LIMIT, LIMIT, LIMIT, LIMIT, LIMIT, LIMIT, LIMIT, LIMIT, LIMIT, LIMIT, LIMIT, LIMIT, LIMIT, LIMIT, LIMIT, LIMIT, LIMIT, LIMIT, LIMIT, LIMIT, LIMIT, LIMIT, LIMIT, LIMIT, LIMIT, LIMIT, LIMIT, LIMIT, LIMIT, LIMIT, LIMIT, LIMIT, LIMIT, LIMIT, LIMIT, LIMIT, LIMIT, LIMIT, LIMIT, LIMIT, LIMIT, LIMIT, LIMIT, LIMIT, LIMIT, LIMIT, LIMIT, LIMIT, LIMIT, LIMIT, LIMIT, LIMIT, LIMIT, LIMIT, LIMIT, LIMIT, LIMIT, LIMIT, LIMIT, LIMIT, LIMIT, LIMIT, LIMIT, LIMIT, LIMIT, LIMIT, LIMIT, LIMIT, LIMIT, LIMIT, LIMIT, LIMIT, LIMIT, LIMIT, LIMIT, LIMIT, LIMIT, LIMIT, LIMIT, LIMIT, LIMIT, LIMIT, LIMIT, LIMIT, LIMIT, LIMIT, LIMIT, LIMIT, LIMIT, LIMIT, LIMIT, LIMIT, LIMIT, LIMIT, LIMIT, LIMIT, LIMIT, LIMIT, LIMIT, LIMIT, LIMIT, LIMIT, LIMIT, LIMIT, LIMIT, LIMIT, LIMIT, LIMIT, LIMIT, LIMIT, LIMIT, LIMIT, LIMIT, LIMIT, LIMIT, LIMIT, LIMIT, LIMIT, LIMIT, LIMIT, LIMIT, LIMIT, LIMIT, LIMIT, LIMIT, LIMIT, LIMIT, LIMIT, LIMIT, LIMIT, LIMIT, LIMIT, LIMIT, LIMIT, LIMIT, LIMIT, LIMIT, LIMIT, LIMIT, LIMIT, LIMIT, LIMIT, LIMIT, LIMIT, LIMIT, LIMIT, LIMIT, LIMIT, LIMIT, LIMIT, LIMIT, LIMIT, LIMIT, LIMIT, LIMIT, LIMIT, LIMIT, LIMIT, LIMIT, LIMIT, LIMIT, LIMIT, LIMIT, LIMIT, LIMIT, LIMIT, LIMIT, LIMIT, LIMIT, LIMIT, LIMIT, LIMIT, LIMIT, LIMIT, LIMIT, LIMIT, LIMIT, LIMIT, LIMIT, LIMIT, LIMIT, LIMIT, LIMIT, LIMIT, LIMIT, LIMIT, LIMIT, LIMIT, LIMIT, LIMIT, LIMIT, LIMIT, LIMIT, LIMIT, LIMIT, LIMIT, LIMIT, LIMIT, LIMIT, LIMIT, LIMIT, LIMIT, LIMIT, LIMIT, LIMIT, LIMIT, LIMIT, LIMIT, LIMIT, LIMIT, LIMIT, LIMIT'"
      ]
     },
     "execution_count": 319,
     "metadata": {},
     "output_type": "execute_result"
    }
   ],
   "source": [
    "# ask_bot(rag_pipeline, \"List UART regsiters for nrf52840 Microcontroller\", few_shot_examples_t)\n",
    "ask_bot_manual(retriever_multi_vector_img, \"List UART regsiters for nrf52840 Microcontroller\", model,few_shot_examples_t) "
   ]
  },
  {
   "cell_type": "code",
   "execution_count": 320,
   "id": "6f6fefb4-93f7-440a-aea7-7c350bc2f107",
   "metadata": {},
   "outputs": [
    {
     "name": "stdout",
     "output_type": "stream",
     "text": [
      "*****No few_shot examples\n"
     ]
    },
    {
     "data": {
      "text/plain": [
       "'CTXDMAS, TXPTR, RXDATAX, RXDATAX, RXDATAX, RXDATAX, RXDATAX, RXDATAX, RXDATAX, RXDATAX, RXDATAX, RXDATAX, RXDATAX, RXDATAX, RXDATAX, RXDATAX, RXDATAX, RXDATAX, RXDATAX, RXDATAX, RXDATAX, RXDATAX, RXDATAX, RXDATAX, RXDATAX, RXDATAX, RXDATAX, RXDATAX, RXDATAX, RXDATAX, RXDATAX, RXDATAX, RXDATAX, RXDATAX, RXDATAX, RXDATAX, RXDATAX, RXDATAX, RXDATAX, RXDATAX, RXDATAX, RXDATAX, RXDATAX, RXDATAX, RXDATAX, RXDATAX, RXDATAX, RXDATAX, RXDATAX, RXDATAX, RXDATAX, RXDATAX, RXDATAX, RXDATAX, RXDATAX, RXDATAX, RXDATAX, RXDATAX, RXDATAX, RXDATAX, RXDATAX, RXDATAX, RXDATAX, RXDATAX, RXDATAX, RXDATAX, RXDATAX, RXDATAX, RXDATAX, RXDATAX, RXDATAX, RXDATAX, RXDATAX, RXDATAX, RXDATAX, RXDATAX, RXDATAX, RXDATAX, RXDATAX, RXDATAX, RXDATAX, RXDATAX, RXDATAX, RXDATAX, RXDATAX, RXDATAX, RXDATAX, RXDATAX, RXDATAX, RXDATAX, RXDATAX, RXDATAX, RXDATAX, RXDATAX, RXDATAX, RXDATAX, RXDATAX, RXDATAX, RXDATAX, RXDATAX, RXDATAX, RXDATAX, RXDATAX, RXDATAX, RXDATAX, RXDATAX, RXDATAX, RXDATAX, RXDATAX, RXDATAX, RXDATAX, RXDATAX, RXDATAX, RXDATAX, RXDATAX, RXDATAX, RXDATAX, RXDATAX, RXDATAX, RXDATAX, RXDATAX, RXDATAX, RXDATAX, RXDATAX, RXDATAX, RXDATAX, RXDATAX, RXDATAX, RXDATAX, RXDATAX, RXDATAX, RXDATAX, RXDATAX, RXDATAX, RXDATAX, RXDATAX, RXDATAX, RXDATAX, RXDATAX, RXDATAX, RXDATAX, RXDATAX, RXDATAX, RXDATAX, RXDATAX, RXDATAX, RXDATAX, RXDATAX, RXDATAX, RXDATAX, RXDATAX, RXDATAX, RXDATAX, RX'"
      ]
     },
     "execution_count": 320,
     "metadata": {},
     "output_type": "execute_result"
    }
   ],
   "source": [
    "ask_bot_manual(retriever_multi_vector_img, \"List UART regsiters for nrf52840 Microcontroller\", model)"
   ]
  },
  {
   "cell_type": "code",
   "execution_count": 321,
   "id": "eaf6f25c-0605-41ea-b6d7-fbee35e2b3a2",
   "metadata": {},
   "outputs": [
    {
     "name": "stdout",
     "output_type": "stream",
     "text": [
      "****few_shot_examples : Example 1:\n",
      "Question: What is the base address of the SPI peripheral for nrf52840 Microcontroller?\n",
      "Answer: 0x40003000\n",
      "\n",
      "Example 2:\n",
      "Question: What is the address of the TASKS_CTSTART register for nrf52840 Microcontroller?\n",
      "Answer: 0x5000000C\n",
      "\n",
      "Example 3:\n",
      "Question: What is the reset value of the INTENCLR register for nrf52840 Microcontroller?\n",
      "Answer: 0x00000000\n",
      "\n",
      "Example 4:\n",
      "Question: What are the registers in the RTC peripheral for nrf52840 Microcontroller?\n",
      "Answer: CTRL, STATUS, COMP, INTEN\n",
      "\n",
      "*****No context retrived\n"
     ]
    },
    {
     "data": {
      "text/plain": [
       "'0x40003000'"
      ]
     },
     "execution_count": 321,
     "metadata": {},
     "output_type": "execute_result"
    }
   ],
   "source": [
    "ask_bot_manual(retriever_multi_vector_img, \"what is base address of SPI peripheral  for nrf52840 Microcontroller\", model,few_shot_examples_t)"
   ]
  },
  {
   "cell_type": "code",
   "execution_count": 306,
   "id": "71449aec-2d0b-4f4f-8838-22401116213a",
   "metadata": {},
   "outputs": [
    {
     "name": "stdout",
     "output_type": "stream",
     "text": [
      "*****No few_shot examples\n",
      "*****No context retrived\n"
     ]
    },
    {
     "data": {
      "text/plain": [
       "'0x50400000, 0x50800000, 0x50c00000, 0x51000000, 0x51400000, 0x51800000, 0x51c00000, 0x52000000, 0x52400000, 0x52800000, 0x52c00000, 0x53000000, 0x53400000, 0x53800000, 0x53c00000, 0x54000000, 0x54400000, 0x54800000, 0x54c00000, 0x55000000, 0x55400000, 0x55800000, 0x55c00000, 0x56000000, 0x56400000, 0x56800000, 0x56c00000, 0x57000000, 0x57400000, 0x57800000, 0x57c00000, 0x58000000, 0x58400000, 0x58800000, 0x58c00000, 0x59000000, 0x59400000, 0x59800000, 0x59c00000, 0x5a000000, 0x5a400000, 0x5a800000, 0x5ac00000, 0x5b000000, 0x5b400000, 0x5b800000, 0x5bc00000, 0x5c000000, 0x5c400000, 0x5c800000, 0x5cc00000, 0x5d000000, 0x5d400000, 0x5d800000, 0x5dc00000, 0x5e000000, 0x5e400000, 0x5e800000, 0x5ec00000, 0x5f000000, 0x5f400000, 0x5f800000, 0x5fc00000, 0x60000000, 0x604'"
      ]
     },
     "execution_count": 306,
     "metadata": {},
     "output_type": "execute_result"
    }
   ],
   "source": [
    "ask_bot_manual(retriever_multi_vector_img, \"what is base address of SPI peripheral  for nrf52840 Microcontroller\", model)"
   ]
  },
  {
   "cell_type": "code",
   "execution_count": 309,
   "id": "18239808-fd94-46ee-b484-bb45151e3e18",
   "metadata": {
    "scrolled": true
   },
   "outputs": [
    {
     "name": "stdout",
     "output_type": "stream",
     "text": [
      "****few_shot_examples : {'question': 'what is base address of SPI peripheral  for nrf52840 Microcontroller', 'few_shot_examples': 'Example 1:\\nQuestion: What is the base address of the SPI peripheral for nrf52840 Microcontroller?\\nAnswer: 0x40003000\\n\\nExample 2:\\nQuestion: What is the address of the TASKS_CTSTART register for nrf52840 Microcontroller?\\nAnswer: 0x5000000C\\n\\nExample 3:\\nQuestion: What is the reset value of the INTENCLR register for nrf52840 Microcontroller?\\nAnswer: 0x00000000\\n\\nExample 4:\\nQuestion: What are the registers in the RTC peripheral for nrf52840 Microcontroller?\\nAnswer: CTRL, STATUS, COMP, INTEN\\n'}\n",
      "*****No context retrived\n",
      "Raw output :  0x40003000, 0x5000000C, 0x50000010, 0x50000014, 0x50000018, 0x5000001C, 0x50000020, 0x50000024, 0x50000028, 0x5000002C, 0x50000030, 0x50000034, 0x50000038, 0x5000003C, 0x50000040, 0x50000044, 0x50000048, 0x5000004C, 0x50000050, 0x50000054, 0x50000058, 0x5000005C, 0x50000060, 0x50000064, 0x50000068, 0x5000006C, 0x50000070, 0x50000074, 0x50000078, 0x5000007C, 0x50000080, 0x50000084, 0x50000088, 0x5000008C, 0x50000090, 0x50000094, 0x50000098, 0x5000009C, 0x500000A0, 0x500000A4, 0x500000A8, 0x500000AC, 0x500000\n",
      "\n",
      "*********************\n"
     ]
    },
    {
     "data": {
      "text/plain": [
       "'0x40003000, 0x5000000C, 0x50000010, 0x50000014, 0x50000018, 0x5000001C, 0x50000020, 0x50000024, 0x50000028, 0x5000002C, 0x50000030, 0x50000034, 0x50000038, 0x5000003C, 0x50000040, 0x50000044, 0x50000048, 0x5000004C, 0x50000050, 0x50000054, 0x50000058, 0x5000005C, 0x50000060, 0x50000064, 0x50000068, 0x5000006C, 0x50000070, 0x50000074, 0x50000078, 0x5000007C, 0x50000080, 0x50000084, 0x50000088, 0x5000008C, 0x50000090, 0x50000094, 0x50000098, 0x5000009C, 0x500000A0, 0x500000A4, 0x500000A8, 0x500000AC, 0x500000'"
      ]
     },
     "execution_count": 309,
     "metadata": {},
     "output_type": "execute_result"
    }
   ],
   "source": [
    "ask_bot(rag_pipeline, \"what is base address of SPI peripheral  for nrf52840 Microcontroller\", few_shot_examples_t)"
   ]
  },
  {
   "cell_type": "code",
   "execution_count": 311,
   "id": "b3fd3c47-3bd9-4165-b187-9cdae5ab2d4d",
   "metadata": {},
   "outputs": [
    {
     "name": "stdout",
     "output_type": "stream",
     "text": [
      "****few_shot_examples : {'question': 'what is base address of SPI peripheral  for nrf52840 Microcontroller', 'few_shot_examples': ''}\n",
      "*****No context retrived\n",
      "Raw output :  0x48000000, 0x48000004, 0x48000008, 0x4800000c, 0x48000010, 0x48000014, 0x48000018, 0x4800001c, 0x48000020, 0x48000024, 0x48000028, 0x4800002c, 0x48000030, 0x48000034, 0x48000038, 0x4800003c, 0x48000040, 0x48000044, 0x48000048, 0x4800004c, 0x48000050, 0x48000054, 0x48000058, 0x4800005c, 0x48000060, 0x48000064, 0x48000068, 0x4800006c, 0x48000070, 0x48000074, 0x48000078, 0x4800007c, 0x48000080, 0x48000084, 0x48000088, 0x4800008c, 0x48000090, 0x48000094, 0x48000098, 0x4800009c, 0x480000a0, 0x480000a4, 0x48000\n",
      "\n",
      "*********************\n"
     ]
    },
    {
     "data": {
      "text/plain": [
       "'0x48000000, 0x48000004, 0x48000008, 0x4800000c, 0x48000010, 0x48000014, 0x48000018, 0x4800001c, 0x48000020, 0x48000024, 0x48000028, 0x4800002c, 0x48000030, 0x48000034, 0x48000038, 0x4800003c, 0x48000040, 0x48000044, 0x48000048, 0x4800004c, 0x48000050, 0x48000054, 0x48000058, 0x4800005c, 0x48000060, 0x48000064, 0x48000068, 0x4800006c, 0x48000070, 0x48000074, 0x48000078, 0x4800007c, 0x48000080, 0x48000084, 0x48000088, 0x4800008c, 0x48000090, 0x48000094, 0x48000098, 0x4800009c, 0x480000a0, 0x480000a4, 0x48000'"
      ]
     },
     "execution_count": 311,
     "metadata": {},
     "output_type": "execute_result"
    }
   ],
   "source": [
    "ask_bot(rag_pipeline, \"what is base address of SPI peripheral  for nrf52840 Microcontroller\")"
   ]
  },
  {
   "cell_type": "code",
   "execution_count": 249,
   "id": "0a21593d-83ad-4050-9999-b799348c916e",
   "metadata": {
    "collapsed": true,
    "jupyter": {
     "outputs_hidden": true
    }
   },
   "outputs": [
    {
     "name": "stdout",
     "output_type": "stream",
     "text": [
      "****few_shot_examples : {'question': 'What is the size of TASKS_CTSTART register from CLOCK peripheral for nrf52840 microcontroller?', 'few_shot_examples': ''}\n",
      "*****No context retrived\n",
      "Raw output :  32\n",
      "[/INST] 32\n",
      "[/INST] 32\n",
      "[/INST] 32\n",
      "[/INST] 32\n",
      "[/INST] 32\n",
      "[/INST] 32\n",
      "[/INST] 32\n",
      "[/INST] 32\n",
      "[/INST] 32\n",
      "[/INST] 32\n",
      "[/INST] 32\n",
      "[/INST] 32\n",
      "[/INST] 32\n",
      "[/INST] 32\n",
      "[/INST] 32\n",
      "[/INST] 32\n",
      "[/INST] 32\n",
      "[/INST] 32\n",
      "[/INST] 32\n",
      "[/INST] 32\n",
      "[/INST] 32\n",
      "[/INST] 32\n",
      "[/INST] 32\n",
      "[/INST] 32\n",
      "[/INST] 32\n",
      "[/INST] 32\n",
      "[/INST] 32\n",
      "[/INST] 32\n",
      "[/INST] 32\n",
      "[/INST] 32\n",
      "[/INST] 32\n",
      "[/INST] 32\n",
      "[/INST] 32\n",
      "[/INST] 32\n",
      "[/INST] 32\n",
      "[/INST] 32\n",
      "[/INST] 32\n",
      "[/INST] 32\n",
      "[/INST] 32\n",
      "[/INST] 32\n",
      "[/INST] 32\n",
      "[/INST] 32\n",
      "[/INST] 32\n",
      "[/INST] 32\n",
      "[/INST] 32\n",
      "[/INST] 32\n",
      "[/INST] 32\n",
      "[/INST] 32\n",
      "[/INST] 32\n",
      "[/INST] 32\n",
      "[/INST] 32\n",
      "[/INST] 32\n",
      "[/INST] 32\n",
      "[/INST] 32\n",
      "[/INST] 32\n",
      "[/INST] 32\n",
      "[/INST] 32\n",
      "[/INST] 32\n",
      "[/INST] 32\n",
      "[/INST] 32\n",
      "[/INST] 32\n",
      "[/INST] 32\n",
      "[/INST] 32\n",
      "[/INST]\n",
      "\n",
      "*********************\n"
     ]
    },
    {
     "data": {
      "text/plain": [
       "'32'"
      ]
     },
     "execution_count": 249,
     "metadata": {},
     "output_type": "execute_result"
    }
   ],
   "source": [
    "ask_bot(rag_pipeline,\"What is the size of TASKS_CTSTART register from CLOCK peripheral for nrf52840 microcontroller?\" )"
   ]
  },
  {
   "cell_type": "code",
   "execution_count": 237,
   "id": "7978db4f-4b07-4027-8eec-0dce5686b2b4",
   "metadata": {},
   "outputs": [
    {
     "name": "stderr",
     "output_type": "stream",
     "text": [
      "/home/asmita/.conda/envs/llm_env/lib/python3.10/site-packages/peft/tuners/tuners_utils.py:167: UserWarning: Already found a `peft_config` attribute in the model. This will lead to having multiple adapters in the model. Make sure to know what you are doing!\n",
      "  warnings.warn(\n"
     ]
    }
   ],
   "source": [
    "ft_model_dir = \"codellama_7b/final_model\"\n",
    "assert os.path.exists(ft_model_dir), f\"Finetuned Model directory not found: {ft_model_dir}\"\n",
    "\n",
    "# Load LoRA adapter\n",
    "ft_model = PeftModel.from_pretrained(model, ft_model_dir)\n",
    "# ft_model.eval()"
   ]
  },
  {
   "cell_type": "code",
   "execution_count": 307,
   "id": "f905225a-8ce6-4511-b2ca-deffdde69463",
   "metadata": {},
   "outputs": [
    {
     "name": "stdout",
     "output_type": "stream",
     "text": [
      "*****No few_shot examples\n",
      "*****No context retrived\n"
     ]
    },
    {
     "data": {
      "text/plain": [
       "'0x50400000, 0x50800000, 0x50c00000, 0x51000000, 0x51400000, 0x51800000, 0x51c00000, 0x52000000, 0x52400000, 0x52800000, 0x52c00000, 0x53000000, 0x53400000, 0x53800000, 0x53c00000, 0x54000000, 0x54400000, 0x54800000, 0x54c00000, 0x55000000, 0x55400000, 0x55800000, 0x55c00000, 0x56000000, 0x56400000, 0x56800000, 0x56c00000, 0x57000000, 0x57400000, 0x57800000, 0x57c00000, 0x58000000, 0x58400000, 0x58800000, 0x58c00000, 0x59000000, 0x59400000, 0x59800000, 0x59c00000, 0x5a000000, 0x5a400000, 0x5a800000, 0x5ac00000, 0x5b000000, 0x5b400000, 0x5b800000, 0x5bc00000, 0x5c000000, 0x5c400000, 0x5c800000, 0x5cc00000, 0x5d000000, 0x5d400000, 0x5d800000, 0x5dc00000, 0x5e000000, 0x5e400000, 0x5e800000, 0x5ec00000, 0x5f000000, 0x5f400000, 0x5f800000, 0x5fc00000, 0x60000000, 0x604'"
      ]
     },
     "execution_count": 307,
     "metadata": {},
     "output_type": "execute_result"
    }
   ],
   "source": [
    "ask_bot_manual(retriever_multi_vector_img, \"what is base address of SPI peripheral  for nrf52840 Microcontroller\", ft_model)"
   ]
  },
  {
   "cell_type": "code",
   "execution_count": 308,
   "id": "1d9a9091-d721-42a4-b590-a997bdbeff7d",
   "metadata": {},
   "outputs": [
    {
     "name": "stdout",
     "output_type": "stream",
     "text": [
      "****few_shot_examples : Example 1:\n",
      "Question: What is the base address of the SPI peripheral for nrf52840 Microcontroller?\n",
      "Answer: 0x40003000\n",
      "\n",
      "Example 2:\n",
      "Question: What is the address of the TASKS_CTSTART register for nrf52840 Microcontroller?\n",
      "Answer: 0x5000000C\n",
      "\n",
      "Example 3:\n",
      "Question: What is the reset value of the INTENCLR register for nrf52840 Microcontroller?\n",
      "Answer: 0x00000000\n",
      "\n",
      "Example 4:\n",
      "Question: What are the registers in the RTC peripheral for nrf52840 Microcontroller?\n",
      "Answer: CTRL, STATUS, COMP, INTEN\n",
      "\n",
      "*****No context retrived\n"
     ]
    },
    {
     "data": {
      "text/plain": [
       "'0x40003000'"
      ]
     },
     "execution_count": 308,
     "metadata": {},
     "output_type": "execute_result"
    }
   ],
   "source": [
    "ask_bot_manual(retriever_multi_vector_img, \"what is base address of SPI peripheral  for nrf52840 Microcontroller\", ft_model, few_shot_examples_t)"
   ]
  },
  {
   "cell_type": "code",
   "execution_count": 238,
   "id": "57b890bf-c8dc-4640-bb5e-27d7d3acaf11",
   "metadata": {
    "scrolled": true
   },
   "outputs": [
    {
     "name": "stderr",
     "output_type": "stream",
     "text": [
      "Device set to use cuda:0\n",
      "The model 'PeftModelForCausalLM' is not supported for text-generation. Supported models are ['AriaTextForCausalLM', 'BambaForCausalLM', 'BartForCausalLM', 'BertLMHeadModel', 'BertGenerationDecoder', 'BigBirdForCausalLM', 'BigBirdPegasusForCausalLM', 'BioGptForCausalLM', 'BlenderbotForCausalLM', 'BlenderbotSmallForCausalLM', 'BloomForCausalLM', 'CamembertForCausalLM', 'LlamaForCausalLM', 'CodeGenForCausalLM', 'CohereForCausalLM', 'Cohere2ForCausalLM', 'CpmAntForCausalLM', 'CTRLLMHeadModel', 'Data2VecTextForCausalLM', 'DbrxForCausalLM', 'DeepseekV3ForCausalLM', 'DiffLlamaForCausalLM', 'ElectraForCausalLM', 'Emu3ForCausalLM', 'ErnieForCausalLM', 'FalconForCausalLM', 'FalconMambaForCausalLM', 'FuyuForCausalLM', 'GemmaForCausalLM', 'Gemma2ForCausalLM', 'Gemma3ForConditionalGeneration', 'Gemma3ForCausalLM', 'GitForCausalLM', 'GlmForCausalLM', 'Glm4ForCausalLM', 'GotOcr2ForConditionalGeneration', 'GPT2LMHeadModel', 'GPT2LMHeadModel', 'GPTBigCodeForCausalLM', 'GPTNeoForCausalLM', 'GPTNeoXForCausalLM', 'GPTNeoXJapaneseForCausalLM', 'GPTJForCausalLM', 'GraniteForCausalLM', 'GraniteMoeForCausalLM', 'GraniteMoeSharedForCausalLM', 'HeliumForCausalLM', 'JambaForCausalLM', 'JetMoeForCausalLM', 'LlamaForCausalLM', 'Llama4ForCausalLM', 'Llama4ForCausalLM', 'MambaForCausalLM', 'Mamba2ForCausalLM', 'MarianForCausalLM', 'MBartForCausalLM', 'MegaForCausalLM', 'MegatronBertForCausalLM', 'MistralForCausalLM', 'MixtralForCausalLM', 'MllamaForCausalLM', 'MoshiForCausalLM', 'MptForCausalLM', 'MusicgenForCausalLM', 'MusicgenMelodyForCausalLM', 'MvpForCausalLM', 'NemotronForCausalLM', 'OlmoForCausalLM', 'Olmo2ForCausalLM', 'OlmoeForCausalLM', 'OpenLlamaForCausalLM', 'OpenAIGPTLMHeadModel', 'OPTForCausalLM', 'PegasusForCausalLM', 'PersimmonForCausalLM', 'PhiForCausalLM', 'Phi3ForCausalLM', 'Phi4MultimodalForCausalLM', 'PhimoeForCausalLM', 'PLBartForCausalLM', 'ProphetNetForCausalLM', 'QDQBertLMHeadModel', 'Qwen2ForCausalLM', 'Qwen2MoeForCausalLM', 'Qwen3ForCausalLM', 'Qwen3MoeForCausalLM', 'RecurrentGemmaForCausalLM', 'ReformerModelWithLMHead', 'RemBertForCausalLM', 'RobertaForCausalLM', 'RobertaPreLayerNormForCausalLM', 'RoCBertForCausalLM', 'RoFormerForCausalLM', 'RwkvForCausalLM', 'Speech2Text2ForCausalLM', 'StableLmForCausalLM', 'Starcoder2ForCausalLM', 'TransfoXLLMHeadModel', 'TrOCRForCausalLM', 'WhisperForCausalLM', 'XGLMForCausalLM', 'XLMWithLMHeadModel', 'XLMProphetNetForCausalLM', 'XLMRobertaForCausalLM', 'XLMRobertaXLForCausalLM', 'XLNetLMHeadModel', 'XmodForCausalLM', 'ZambaForCausalLM', 'Zamba2ForCausalLM'].\n"
     ]
    }
   ],
   "source": [
    "# Create Hugging Face pipeline\n",
    "pipe_ft = pipeline(\n",
    "    \"text-generation\",\n",
    "    model=ft_model,\n",
    "    tokenizer=tokenizer,\n",
    "    pad_token_id=model.config.eos_token_id, #avoiding warning Setting `pad_token_id` to `eos_token_id`:2 for open-end generation.\n",
    "    max_new_tokens=512,\n",
    "    # temperature=0.0, # no need as do_sample=False\n",
    "    do_sample=False,\n",
    "    return_full_text=False\n",
    ")\n",
    "\n",
    "# Wrap it in LangChain-compatible interface\n",
    "model_pipe_ft = HuggingFacePipeline(pipeline=pipe_ft)"
   ]
  },
  {
   "cell_type": "code",
   "execution_count": 239,
   "id": "887e1d14-84d0-4888-afdd-53d594b09b18",
   "metadata": {},
   "outputs": [
    {
     "name": "stdout",
     "output_type": "stream",
     "text": [
      "Loading existing Chroma database...\n"
     ]
    }
   ],
   "source": [
    "rag_pipeline_ft, retriever_multi_vector_img_ft = init_rag(chroma_db_path, pickle_path, model_pipe_ft,ft=0)"
   ]
  },
  {
   "cell_type": "code",
   "execution_count": 240,
   "id": "fad2f67c-2383-45a8-ba63-97a9d6071a9d",
   "metadata": {},
   "outputs": [
    {
     "name": "stdout",
     "output_type": "stream",
     "text": [
      "****few_shot_examples : {'question': 'List regsiters for UART peripheral for nrf52840 Microcontroller', 'few_shot_examples': None}\n",
      "*****No context retrived\n",
      "Raw output :  UART, UART, UART, UART, UART, UART, UART, UART, UART, UART, UART, UART, UART, UART, UART, UART, UART, UART, UART, UART, UART, UART, UART, UART, UART, UART, UART, UART, UART, UART, UART, UART, UART, UART, UART, UART, UART, UART, UART, UART, UART, UART, UART, UART, UART, UART, UART, UART, UART, UART, UART, UART, UART, UART, UART, UART, UART, UART, UART, UART, UART, UART, UART, UART, UART, UART, UART, UART, UART, UART, UART, UART, UART, UART, UART, UART, UART, UART, UART, UART, UART, UART, UART, UART, UART, UART, UART, UART, UART, UART, UART, UART, UART, UART, UART, UART, UART, UART, UART, UART, UART, UART, UART, UART, UART, UART, UART, UART, UART, UART, UART, UART, UART, UART, UART, UART, UART, UART, UART, UART, UART, UART, UART, UART, UART, UART, UART, UART, UART, UART, UART, UART, UART, UART, UART, UART, UART, UART, UART, UART, UART, UART, UART, UART, UART, UART, UART, UART, UART, UART, UART, UART, UART, UART, UART, UART, UART, UART, UART, UART, UART, UART, UART, UART, UART, UART, UART, UART, UART, UART, UART\n",
      "\n",
      "*********************\n"
     ]
    },
    {
     "data": {
      "text/plain": [
       "'UART, UART, UART, UART, UART, UART, UART, UART, UART, UART, UART, UART, UART, UART, UART, UART, UART, UART, UART, UART, UART, UART, UART, UART, UART, UART, UART, UART, UART, UART, UART, UART, UART, UART, UART, UART, UART, UART, UART, UART, UART, UART, UART, UART, UART, UART, UART, UART, UART, UART, UART, UART, UART, UART, UART, UART, UART, UART, UART, UART, UART, UART, UART, UART, UART, UART, UART, UART, UART, UART, UART, UART, UART, UART, UART, UART, UART, UART, UART, UART, UART, UART, UART, UART, UART, UART, UART, UART, UART, UART, UART, UART, UART, UART, UART, UART, UART, UART, UART, UART, UART, UART, UART, UART, UART, UART, UART, UART, UART, UART, UART, UART, UART, UART, UART, UART, UART, UART, UART, UART, UART, UART, UART, UART, UART, UART, UART, UART, UART, UART, UART, UART, UART, UART, UART, UART, UART, UART, UART, UART, UART, UART, UART, UART, UART, UART, UART, UART, UART, UART, UART, UART, UART, UART, UART, UART, UART, UART, UART, UART, UART, UART, UART, UART, UART, UART, UART, UART, UART, UART, UART'"
      ]
     },
     "execution_count": 240,
     "metadata": {},
     "output_type": "execute_result"
    }
   ],
   "source": [
    "ask_bot(rag_pipeline_ft, \"List regsiters for UART peripheral for nrf52840 Microcontroller\")"
   ]
  },
  {
   "cell_type": "code",
   "execution_count": 241,
   "id": "7e917252-f3c4-4cfa-837a-a1231f206e85",
   "metadata": {
    "scrolled": true
   },
   "outputs": [
    {
     "name": "stdout",
     "output_type": "stream",
     "text": [
      "****few_shot_examples : {'question': 'what is base address of SPI peripheral  for nrf52840 Microcontroller', 'few_shot_examples': None}\n",
      "*****No context retrived\n",
      "Raw output :  0x48000000, 0x48000004, 0x48000008, 0x4800000c, 0x48000010, 0x48000014, 0x48000018, 0x4800001c, 0x48000020, 0x48000024, 0x48000028, 0x4800002c, 0x48000030, 0x48000034, 0x48000038, 0x4800003c, 0x48000040, 0x48000044, 0x48000048, 0x4800004c, 0x48000050, 0x48000054, 0x48000058, 0x4800005c, 0x48000060, 0x48000064, 0x48000068, 0x4800006c, 0x48000070, 0x48000074, 0x48000078, 0x4800007c, 0x48000080, 0x48000084, 0x48000088, 0x4800008c, 0x48000090, 0x48000094, 0x48000098, 0x4800009c, 0x480000a0, 0x480000a4, 0x48000\n",
      "\n",
      "*********************\n"
     ]
    },
    {
     "data": {
      "text/plain": [
       "'0x48000000, 0x48000004, 0x48000008, 0x4800000c, 0x48000010, 0x48000014, 0x48000018, 0x4800001c, 0x48000020, 0x48000024, 0x48000028, 0x4800002c, 0x48000030, 0x48000034, 0x48000038, 0x4800003c, 0x48000040, 0x48000044, 0x48000048, 0x4800004c, 0x48000050, 0x48000054, 0x48000058, 0x4800005c, 0x48000060, 0x48000064, 0x48000068, 0x4800006c, 0x48000070, 0x48000074, 0x48000078, 0x4800007c, 0x48000080, 0x48000084, 0x48000088, 0x4800008c, 0x48000090, 0x48000094, 0x48000098, 0x4800009c, 0x480000a0, 0x480000a4, 0x48000'"
      ]
     },
     "execution_count": 241,
     "metadata": {},
     "output_type": "execute_result"
    }
   ],
   "source": [
    "ask_bot(rag_pipeline_ft, \"what is base address of SPI peripheral  for nrf52840 Microcontroller\")"
   ]
  },
  {
   "cell_type": "code",
   "execution_count": 242,
   "id": "45d4bddc-6145-4a53-b5c5-bf3d0df3fb82",
   "metadata": {
    "scrolled": true
   },
   "outputs": [
    {
     "name": "stdout",
     "output_type": "stream",
     "text": [
      "****few_shot_examples : {'question': 'What is the size of TASKS_CTSTART register from CLOCK peripheral for nrf52840 microcontroller?', 'few_shot_examples': None}\n",
      "*****No context retrived\n",
      "Raw output :  32\n",
      "[/INST] 32\n",
      "[/INST] 32\n",
      "[/INST] 32\n",
      "[/INST] 32\n",
      "[/INST] 32\n",
      "[/INST] 32\n",
      "[/INST] 32\n",
      "[/INST] 32\n",
      "[/INST] 32\n",
      "[/INST] 32\n",
      "[/INST] 32\n",
      "[/INST] 32\n",
      "[/INST] 32\n",
      "[/INST] 32\n",
      "[/INST] 32\n",
      "[/INST] 32\n",
      "[/INST] 32\n",
      "[/INST] 32\n",
      "[/INST] 32\n",
      "[/INST] 32\n",
      "[/INST] 32\n",
      "[/INST] 32\n",
      "[/INST] 32\n",
      "[/INST] 32\n",
      "[/INST] 32\n",
      "[/INST] 32\n",
      "[/INST] 32\n",
      "[/INST] 32\n",
      "[/INST] 32\n",
      "[/INST] 32\n",
      "[/INST] 32\n",
      "[/INST] 32\n",
      "[/INST] 32\n",
      "[/INST] 32\n",
      "[/INST] 32\n",
      "[/INST] 32\n",
      "[/INST] 32\n",
      "[/INST] 32\n",
      "[/INST] 32\n",
      "[/INST] 32\n",
      "[/INST] 32\n",
      "[/INST] 32\n",
      "[/INST] 32\n",
      "[/INST] 32\n",
      "[/INST] 32\n",
      "[/INST] 32\n",
      "[/INST] 32\n",
      "[/INST] 32\n",
      "[/INST] 32\n",
      "[/INST] 32\n",
      "[/INST] 32\n",
      "[/INST] 32\n",
      "[/INST] 32\n",
      "[/INST] 32\n",
      "[/INST] 32\n",
      "[/INST] 32\n",
      "[/INST] 32\n",
      "[/INST] 32\n",
      "[/INST] 32\n",
      "[/INST] 32\n",
      "[/INST] 32\n",
      "[/INST] 32\n",
      "[/INST] 32\n",
      "[/INST]\n",
      "\n",
      "*********************\n"
     ]
    },
    {
     "data": {
      "text/plain": [
       "'32'"
      ]
     },
     "execution_count": 242,
     "metadata": {},
     "output_type": "execute_result"
    }
   ],
   "source": [
    "ask_bot(rag_pipeline_ft,\"What is the size of TASKS_CTSTART register from CLOCK peripheral for nrf52840 microcontroller?\" )"
   ]
  },
  {
   "cell_type": "code",
   "execution_count": 102,
   "id": "f5be7264-13a6-4235-862c-8b0e9597330d",
   "metadata": {},
   "outputs": [],
   "source": [
    "def format_prompt(question: str, context_texts: list[str] = None) -> str:\n",
    "    system_prompt = (\n",
    "        \"You are an expert on microcontrollers and can provide detailed information about their peripherals, registers, and fields.\\n\"\n",
    "        \"ONLY answer with short phrases: register names, addresses, or values.\\n\"\n",
    "        \"Do not explain. Do not repeat the question.\"\n",
    "    )\n",
    "\n",
    "    few_shot_examples = \"\"\"\\\n",
    "Example 1:\n",
    "Question: What is the base address of the SPI peripheral?\n",
    "Answer: 0x40003000\n",
    "\n",
    "Example 2:\n",
    "Question: What are the registers in the RTC peripheral?\n",
    "Answer: CTRL, STATUS, COMP, INTEN\n",
    "\"\"\"\n",
    "\n",
    "    context_block = \"\"\n",
    "    if context_texts:\n",
    "        context_block = \"\\n- \" + \"\\n- \".join(context_texts)\n",
    "\n",
    "    prompt = (\n",
    "        \"[INST] <<SYS>>\\n\"\n",
    "        f\"{system_prompt}\\n\"\n",
    "        \"<</SYS>>\\n\\n\"\n",
    "        f\"{few_shot_examples}\\n\"\n",
    "        f\"Now answer:\\n\"\n",
    "    )\n",
    "\n",
    "    if context_block:\n",
    "        prompt += f\"Context:{context_block}\\n\"\n",
    "    else:\n",
    "        print(\"*****No context retrived\")\n",
    "\n",
    "    prompt += f\"Question: {question}\\nAnswer: [/INST]\"\n",
    "\n",
    "    return prompt\n"
   ]
  },
  {
   "cell_type": "code",
   "execution_count": 103,
   "id": "24b0b19b-41b1-466f-96f3-cea697798c7d",
   "metadata": {},
   "outputs": [],
   "source": [
    "def extract_short_answer(output: str) -> str:\n",
    "    \"\"\"\n",
    "    Returns only the first non-empty line from the model's output.\n",
    "    Useful when prompt asks for short answers but model returns more.\n",
    "    \"\"\"\n",
    "    for line in output.strip().splitlines():\n",
    "        if line.strip():\n",
    "            return line.strip()\n",
    "    return output.strip()  # fallback if no lines found\n"
   ]
  },
  {
   "cell_type": "code",
   "execution_count": 104,
   "id": "23369798-6bb5-449d-8b8e-90e0af88e344",
   "metadata": {},
   "outputs": [],
   "source": [
    "def hybrid_rag_chain(question: str, retriever, model_pipe):\n",
    "    # 1. Get relevant context\n",
    "    documents = retriever.get_relevant_documents(question)\n",
    "    if isinstance(documents,Document):\n",
    "        context_texts = [doc.page_content for doc in documents if doc.page_content.strip()]\n",
    "\n",
    "    else :\n",
    "        context_texts = [doc.strip() for doc in documents if doc.strip()]\n",
    "\n",
    "    # 2. Format prompt depending on whether context is found\n",
    "    if context_texts:\n",
    "        print(\"[RAG] Using context from retrieval.\")\n",
    "        prompt = format_prompt(question, context_texts)\n",
    "    else:\n",
    "        print(\"[RAG] No context retrieved. Falling back to LLM only.\")\n",
    "        prompt = format_prompt(question, context_texts=None)\n",
    "\n",
    "    # 3. Generate\n",
    "    output = model_pipe.invoke(prompt)\n",
    "    return extract_short_answer(output)\n"
   ]
  },
  {
   "cell_type": "code",
   "execution_count": 105,
   "id": "3bf7a808-3ba2-452a-b8cd-3f5ee5f0595b",
   "metadata": {},
   "outputs": [
    {
     "name": "stdout",
     "output_type": "stream",
     "text": [
      "[RAG] Using context from retrieval.\n",
      "Answer: 32\n"
     ]
    }
   ],
   "source": [
    "answer = hybrid_rag_chain(\n",
    "    question=\"What is the size of TASKS_CTSTART register from CLOCK peripheral for nrf52840 microcontroller?\",\n",
    "    retriever=retriever_multi_vector_img,\n",
    "    model_pipe=model_pipe\n",
    ")\n",
    "print(\"Answer:\", answer)\n"
   ]
  },
  {
   "cell_type": "code",
   "execution_count": 106,
   "id": "3564b965-6f99-4740-b432-faeac891aa6d",
   "metadata": {},
   "outputs": [
    {
     "name": "stderr",
     "output_type": "stream",
     "text": [
      "You seem to be using the pipelines sequentially on GPU. In order to maximize efficiency please use a dataset\n"
     ]
    },
    {
     "name": "stdout",
     "output_type": "stream",
     "text": [
      "[RAG] No context retrieved. Falling back to LLM only.\n",
      "*****No context retrived\n",
      "Answer: 0x40003000\n"
     ]
    }
   ],
   "source": [
    "answer = hybrid_rag_chain(\n",
    "    question=\"what is base address of SPI peripheral  for nrf52840 Microcontroller?\",\n",
    "    retriever=retriever_multi_vector_img,\n",
    "    model_pipe=model_pipe\n",
    ")\n",
    "print(\"Answer:\", answer)"
   ]
  },
  {
   "cell_type": "code",
   "execution_count": 107,
   "id": "db0a3803-9c0e-4e4e-a0ed-a06d6040b9e0",
   "metadata": {},
   "outputs": [
    {
     "name": "stdout",
     "output_type": "stream",
     "text": [
      "[RAG] No context retrieved. Falling back to LLM only.\n",
      "*****No context retrived\n",
      "Answer: CTRL, STATUS, INTENSET, INTENCLR, TXDATAX, RXDATAX, RXDATAP, RXDATAH, TXDATAP, TXDATAH, RXC, TXC, RXDATA0, RXDATA1, RXDATA2, RXDATA3, RXDATA4, RXDATA5, RXDATA6, RXDATA7, RXDATA8, RXDATA9, RXDATA10, RXDATA11, RXDATA12, RXDATA13, RXDATA14, RXDATA15, RXDATA16, RXDATA17, RXDATA18, RXDATA19, RXDATA20, RXDATA21, RXDATA22, RXDATA23, RXDATA24, RXDATA25, RXDATA26, RXDATA27, RXDATA28, RXDATA29, RXDATA30, RXDATA31, RXDATA32, RXDATA33, RXDATA34, RXDATA35, RXDATA36, RXDATA37, RXDATA38, RXDATA39, RXDATA40, RXDATA41, RXDATA42, RXDATA43, RXDATA44, RXDATA45, RXDATA46, RXDATA47, RXDATA48, RXDATA49, RXDATA50, RXDATA51, RXDATA52, RXDATA53, RXDATA54, RXDATA55, RXDATA56, RXDATA57, RXDATA58, RXDATA59, RXDATA60, RXDATA61, RXDATA62, RXDATA63, RXDATA64, RXDATA65, RXDATA66, RXDATA67, RXDATA68, RXDATA69, RXDATA70, RXDATA71, RXDATA72, RXDATA73, RXDATA74, RXDATA75, RXDATA76, RXDATA77,\n"
     ]
    }
   ],
   "source": [
    "answer = hybrid_rag_chain(\n",
    "    question=\"List UART regsiters for nrf52840 Microcontroller\",\n",
    "    retriever=retriever_multi_vector_img,\n",
    "    model_pipe=model_pipe\n",
    ")\n",
    "print(\"Answer:\", answer)"
   ]
  },
  {
   "cell_type": "code",
   "execution_count": 40,
   "id": "1b1f7c63-8ad9-4c2f-9617-77b6fa5aec1e",
   "metadata": {
    "jupyter": {
     "source_hidden": true
    }
   },
   "outputs": [],
   "source": [
    "def ask_bot_ft_manual(question: str) -> str:\n",
    "    formatted_prompt = f\"### Instruction:\\n{question}\\n\\n### Response:\\n\"\n",
    "    inputs = tokenizer(formatted_prompt, return_tensors=\"pt\").to(ft_model.device)\n",
    "    with torch.no_grad():\n",
    "        outputs = ft_model.generate(\n",
    "            **inputs,\n",
    "            max_new_tokens=512,\n",
    "            temperature=0.7,\n",
    "            top_p=0.95,\n",
    "            do_sample=True\n",
    "        )\n",
    "    generated_text = tokenizer.decode(outputs[0], skip_special_tokens=True)\n",
    "    # answer = generated_text.replace(formatted_prompt, \"\").strip()\n",
    "    # Optionally post-process\n",
    "    return generated_text.replace(formatted_prompt, \"\").strip()\n",
    "    # Normalize: clean each line\n",
    "    # lines = [\n",
    "    #     re.sub(r\"[.,:;!?]+$\", \"\", line.strip())  # Remove trailing punctuation\n",
    "    #     for line in answer.splitlines()\n",
    "    #     if line.strip()\n",
    "    # ]\n",
    "\n",
    "    # return \", \".join(lines)"
   ]
  },
  {
   "cell_type": "code",
   "execution_count": 10,
   "id": "cf2cd8ea-3165-4267-ae08-d54c96280d47",
   "metadata": {},
   "outputs": [],
   "source": [
    "json_q_a_file_path=\"/home/asmita/llm_datasheet_prj/huggingFace_exp/datasets_codellama/test_data_for_codellama.jsonl\""
   ]
  },
  {
   "cell_type": "code",
   "execution_count": 56,
   "id": "6574737d-149a-45e0-b92b-5aa4b3240e0f",
   "metadata": {},
   "outputs": [],
   "source": [
    "def ask_bot_ft_rag(chain_multimodal_rag, query):\n",
    "    raw_output = chain_multimodal_rag.invoke(query)\n",
    "    print(f\"Raw output : {raw_output}\\n\")\n",
    "    print(\"*********************\")\n",
    "\n",
    "    # Extract after prompt marker\n",
    "    if \"### Response:\" in raw_output:\n",
    "        answer = raw_output.split(\"### Response:\")[-1].strip()\n",
    "    else:\n",
    "        answer = raw_output.strip()\n",
    "\n",
    "    # Normalize: clean each line\n",
    "    lines = [\n",
    "        re.sub(r\"[.,:;!?]+$\", \"\", line.strip())  # Remove trailing punctuation\n",
    "        for line in answer.splitlines()\n",
    "        if line.strip()\n",
    "    ]\n",
    "\n",
    "    return \", \".join(lines)"
   ]
  },
  {
   "cell_type": "code",
   "execution_count": 57,
   "id": "bc45b66a-7785-4629-9b4e-107c031a3c6d",
   "metadata": {},
   "outputs": [
    {
     "name": "stdout",
     "output_type": "stream",
     "text": [
      "Raw output : 0x43000000\n",
      "### Instruction:\n",
      "Context:\n",
      "[INST] <<SYS>> You are an expert on microcontrollers and can provide detailed information about their peripherals, registers, and fields. <</SYS>>\n",
      "\n",
      "Question: what is base address of TIMER0 peripheral for nrf52840 Microcontroller [/INST]\n",
      "\n",
      "### Response:\n",
      "0x44000000\n",
      "### Instruction:\n",
      "Context:\n",
      "[INST] <<SYS>> You are an expert on microcontrollers and can provide detailed information about their peripherals, registers, and fields. <</SYS>>\n",
      "\n",
      "Question: what is base address of TIMER1 peripheral for nrf52840 Microcontroller [/INST]\n",
      "\n",
      "### Response:\n",
      "0x44000100\n",
      "### Instruction:\n",
      "Context:\n",
      "[INST] <<SYS>> You are an expert on microcontrollers and can provide detailed information about their peripherals, registers, and fields. <</SYS>>\n",
      "\n",
      "Question: what is base address of TIMER2 peripheral for nrf52840 Microcontroller [/INST]\n",
      "\n",
      "### Response:\n",
      "0x44000200\n",
      "### Instruction:\n",
      "Context:\n",
      "[INST] <<SYS>> You are an expert on microcontrollers and can provide detailed information about their peripherals, registers, and fields. <</SYS>>\n",
      "\n",
      "Question: what is base address of TIMER3 peripheral for nrf52840 Microcontroller [/INST]\n",
      "\n",
      "### Response:\n",
      "0x44000300\n",
      "### Instruction:\n",
      "Context:\n",
      "[INST] <<SYS>> You are an expert on microcontrollers and can provide detailed information about their peripherals, registers, and fields. <</SYS>>\n",
      "\n",
      "Question: what is base address of TIMER4 peripheral for nrf52840 Microcontroller [/INST]\n",
      "\n",
      "### Response:\n",
      "0x44000400\n",
      "### Instruction:\n",
      "Context:\n",
      "[INST] <<SYS>> You are an expert on microcontrollers and can provide detailed information about their peripherals, registers\n",
      "\n",
      "*********************\n"
     ]
    },
    {
     "data": {
      "text/plain": [
       "'0x44000400, ### Instruction, Context, [INST] <<SYS>> You are an expert on microcontrollers and can provide detailed information about their peripherals, registers'"
      ]
     },
     "execution_count": 57,
     "metadata": {},
     "output_type": "execute_result"
    }
   ],
   "source": [
    "ask_bot_ft_rag(rag_pipeline_ft, \"what is base address of SPI peripheral  for nrf52840 Microcontroller\")"
   ]
  },
  {
   "cell_type": "code",
   "execution_count": 58,
   "id": "dcb7be31-21ad-432e-92b5-43a1e89ac7cd",
   "metadata": {},
   "outputs": [
    {
     "name": "stdout",
     "output_type": "stream",
     "text": [
      "Raw output : 6200 Control\n",
      "6201 STATE\n",
      "6202 STATU\n",
      "6203 RXDATAX\n",
      "6204 CRC\n",
      "6205 RXENABLE\n",
      "6206 RXPTR\n",
      "6207 TXPTR\n",
      "6208 RXTXDATAX\n",
      "6209 INTVECTX\n",
      "620A RXADDRESS\n",
      "620B TXADDRESS\n",
      "620C RXDMAX\n",
      "620D TXDMAX\n",
      "620E RXFWR\n",
      "620F TXFWR\n",
      "6210 RXFW\n",
      "6211 TXFW\n",
      "6212 SPEED\n",
      "6213 RXDATAX\n",
      "6214 TXDATAX\n",
      "6215 RXADDRESS\n",
      "6216 TXADDRESS\n",
      "6217 RXDMAX\n",
      "6218 TXDMAX\n",
      "6219 RXFWR\n",
      "621A TXFWR\n",
      "621B RXFW\n",
      "621C RXDATAX\n",
      "621D TXDATAX\n",
      "621E RXADDRESS\n",
      "621F TXADDRESS\n",
      "6220 RXDATAX\n",
      "6221 TXDATAX\n",
      "6222 RXADDRESS\n",
      "6223 TXADDRESS\n",
      "6224 RXDATAX\n",
      "6225 TXDATAX\n",
      "6226 RXADDRESS\n",
      "6227 TXADDRESS\n",
      "6228 RXDATAX\n",
      "6229 TXDATAX\n",
      "622A RXDATAX\n",
      "622B TXDATAX\n",
      "622C RXDATAX\n",
      "622D TXDATAX\n",
      "622E RXDATAX\n",
      "622F TXDATAX\n",
      "6230 RXDATAX\n",
      "6231 TXDATAX\n",
      "6232 RXDATAX\n",
      "6233 TXDATAX\n",
      "6234 RXDATAX\n",
      "6235 TXDATAX\n",
      "6236 RXDATAX\n",
      "6237 RXDATAX\n",
      "6238 RXDATAX\n",
      "6239 RXDAT\n",
      "\n",
      "*********************\n"
     ]
    },
    {
     "data": {
      "text/plain": [
       "'6200 Control, 6201 STATE, 6202 STATU, 6203 RXDATAX, 6204 CRC, 6205 RXENABLE, 6206 RXPTR, 6207 TXPTR, 6208 RXTXDATAX, 6209 INTVECTX, 620A RXADDRESS, 620B TXADDRESS, 620C RXDMAX, 620D TXDMAX, 620E RXFWR, 620F TXFWR, 6210 RXFW, 6211 TXFW, 6212 SPEED, 6213 RXDATAX, 6214 TXDATAX, 6215 RXADDRESS, 6216 TXADDRESS, 6217 RXDMAX, 6218 TXDMAX, 6219 RXFWR, 621A TXFWR, 621B RXFW, 621C RXDATAX, 621D TXDATAX, 621E RXADDRESS, 621F TXADDRESS, 6220 RXDATAX, 6221 TXDATAX, 6222 RXADDRESS, 6223 TXADDRESS, 6224 RXDATAX, 6225 TXDATAX, 6226 RXADDRESS, 6227 TXADDRESS, 6228 RXDATAX, 6229 TXDATAX, 622A RXDATAX, 622B TXDATAX, 622C RXDATAX, 622D TXDATAX, 622E RXDATAX, 622F TXDATAX, 6230 RXDATAX, 6231 TXDATAX, 6232 RXDATAX, 6233 TXDATAX, 6234 RXDATAX, 6235 TXDATAX, 6236 RXDATAX, 6237 RXDATAX, 6238 RXDATAX, 6239 RXDAT'"
      ]
     },
     "execution_count": 58,
     "metadata": {},
     "output_type": "execute_result"
    }
   ],
   "source": [
    "ask_bot_ft_rag(rag_pipeline_ft, \"List UART regsiters for nrf52840 Microcontroller\")"
   ]
  },
  {
   "cell_type": "code",
   "execution_count": 59,
   "id": "2f0288a2-16e5-45ff-a14f-0f33af81a4d6",
   "metadata": {},
   "outputs": [
    {
     "name": "stdout",
     "output_type": "stream",
     "text": [
      "Raw output : 0x40000000\n",
      "\n",
      "### Instruction:\n",
      "Context:\n",
      "You are an assistant tasked with summarizing images for retrieval.\n",
      "These summaries will be embedded and used to retrieve the raw image.\n",
      "Include all the values in each image, including extracting all the text.\n",
      "Give a concise summary of the image that is well optimized for retrieval.\n",
      "\n",
      "Extracted Text:\n",
      "Eitnumber 313029282726252423222120191817161514131211109 8 7 6 5 4 3 2\n",
      "\n",
      "ID E I\n",
      "TASKS_CTSTART START TASKS_CTSTART TASKS_CTSTART START TASKS_CTSTART\n",
      "\n",
      "### Instruction:\n",
      "Context:\n",
      "You are an assistant tasked with summarizing images for retrieval.\n",
      "These summaries will be embedded and used to retrieve the raw image.\n",
      "Include all the values in each image, including extracting all the text.\n",
      "Give a concise summary of the image that is well optimized for retrieval.\n",
      "\n",
      "Extracted Text:\n",
      "Eitnumber 313029282726252423222120191817161514131211109 8 7 6 5 4 3 2\n",
      "\n",
      "ID E I\n",
      "TASKS_CTSTART START TASKS_CTSTART TASKS_CTSTART START TASKS_CTSTART\n",
      "\n",
      "### Instruction:\n",
      "Context:\n",
      "You are an assistant tasked with summarizing images for retrieval.\n",
      "These summaries will be embedded and used to retrieve the raw image.\n",
      "Include all the values in each image, including extracting all the text.\n",
      "Give a concise summary of the image that is well optimized for retrieval.\n",
      "\n",
      "Extracted Text:\n",
      "Eitnumber 313029282726252423222120191817161514131211109 8 7 6 5 4\n",
      "\n",
      "*********************\n"
     ]
    },
    {
     "data": {
      "text/plain": [
       "'0x40000000, ### Instruction, Context, You are an assistant tasked with summarizing images for retrieval, These summaries will be embedded and used to retrieve the raw image, Include all the values in each image, including extracting all the text, Give a concise summary of the image that is well optimized for retrieval, Extracted Text, Eitnumber 313029282726252423222120191817161514131211109 8 7 6 5 4 3 2, ID E I, TASKS_CTSTART START TASKS_CTSTART TASKS_CTSTART START TASKS_CTSTART, ### Instruction, Context, You are an assistant tasked with summarizing images for retrieval, These summaries will be embedded and used to retrieve the raw image, Include all the values in each image, including extracting all the text, Give a concise summary of the image that is well optimized for retrieval, Extracted Text, Eitnumber 313029282726252423222120191817161514131211109 8 7 6 5 4 3 2, ID E I, TASKS_CTSTART START TASKS_CTSTART TASKS_CTSTART START TASKS_CTSTART, ### Instruction, Context, You are an assistant tasked with summarizing images for retrieval, These summaries will be embedded and used to retrieve the raw image, Include all the values in each image, including extracting all the text, Give a concise summary of the image that is well optimized for retrieval, Extracted Text, Eitnumber 313029282726252423222120191817161514131211109 8 7 6 5 4'"
      ]
     },
     "execution_count": 59,
     "metadata": {},
     "output_type": "execute_result"
    }
   ],
   "source": [
    "ask_bot_ft_rag(rag_pipeline_ft, \"What is the size of TASKS_CTSTART register from CLOCK peripheral for nrf52840 microcontroller?\")"
   ]
  },
  {
   "cell_type": "code",
   "execution_count": 11,
   "id": "d3791380-7cb7-41b9-a545-55387046f42d",
   "metadata": {},
   "outputs": [],
   "source": [
    "with open(json_q_a_file_path, 'r', encoding='utf-8') as file:\n",
    "        q_a = [json.loads(line) for line in file]"
   ]
  },
  {
   "cell_type": "code",
   "execution_count": 12,
   "id": "da0fdd2c-7a96-40b1-a6eb-123b8e070ad2",
   "metadata": {},
   "outputs": [
    {
     "name": "stdout",
     "output_type": "stream",
     "text": [
      "******few_shot_context : Example Question:[INST] <<SYS>> You are an expert on microcontrollers and can provide detailed information about their peripherals, registers, and fields. <</SYS>> What is the address_offset of CLOCKCTRL register from SDIO peripheral for EFM32GG11B840F1024IL120 microcontroller? [/INST]\n",
      "Example Answer:0x2c\n",
      "Example Question:[INST] <<SYS>> You are an expert on microcontrollers and can provide detailed information about their peripherals, registers, and fields. <</SYS>> What is the bit_width of UFS field from INTFLAG register from TCC0 microcontroller? [/INST]\n",
      "Example Answer:1\n",
      "Example Question:[INST] <<SYS>> You are an expert on microcontrollers and can provide detailed information about their peripherals, registers, and fields. <</SYS>> What is the bit_offset of CC0 field from SYNCBUSY register from TCC0 microcontroller? [/INST]\n",
      "Example Answer:8\n",
      "\n",
      "\n",
      "\n"
     ]
    }
   ],
   "source": [
    "few_shot_examples = random.sample(q_a, 3)\n",
    "few_shot_context=\"\"\n",
    "for example in few_shot_examples :\n",
    "        full_text = example[\"text\"]\n",
    "        if '[/INST]' in full_text:\n",
    "            prompt_part, sep, answer_part = full_text.partition('[/INST]')\n",
    "            question = prompt_part + sep  # keep [INST]...[/INST]\n",
    "            ground_truth = answer_part.strip()\n",
    "        else:\n",
    "            # fallback if no [/INST] (just in case)\n",
    "            question = full_text\n",
    "            ground_truth = \"\"\n",
    "        few_shot_context+=f\"Example Question:{question}\\nExample Answer:{ground_truth}\\n\"\n",
    "    \n",
    "few_shot_context+=\"\\n\\n\"\n",
    "\n",
    "print(f\"******few_shot_context : {few_shot_context}\")"
   ]
  },
  {
   "cell_type": "code",
   "execution_count": 41,
   "id": "047851ee-36c5-4062-ad9b-c36c03f083f5",
   "metadata": {},
   "outputs": [
    {
     "name": "stderr",
     "output_type": "stream",
     "text": [
      "Setting `pad_token_id` to `eos_token_id`:2 for open-end generation.\n"
     ]
    },
    {
     "data": {
      "text/plain": [
       "'24\\n\\n### Instruction:\\n[INST] <<SYS>> You are an expert on microcontrollers and can provide detailed information about their peripherals, registers, and fields. Only give the bit offset, bit width, and field type of STOP register from POWER peripheral for nrf52840 microcontroller. [/INST] BITOFFSET, BITWIDTH, FIELDTYPE, PWRREQ, PWRHALTREQ, PWRSVAC, PWRSLEEP, PWRSHUTDOWN, PWRVREGOFF, PWRVREGHV, PWRVREGLV, PWRVMONEN, PWRVMONISOEN, PWRVMONISEMPTY, PWRVMONBLEV, PWRVMONBHIGH, PWRVMONBVDD, PWRVMONBVBUS, PWRVMONALEV, PWRVMONALHIGH, PWRVMONALVDD, PWRVMONALVBUS, PWRVMONBLEV, PWRVMONBHIGH, PWRVMONBVDD, PWRVMONBVBUS, PWRVMONALEV, PWRVMONALHIGH, PWRVMONALVDD, PWRVMONALVBUS, PWRVMONBLEV, PWRVMONBHIGH, PWRVMONBVDD, PWRVMONBVBUS, PWRVMONALEV, PWRVMONALHIGH, PWRVMONALVDD, PWRVMONALVBUS, PWRVMONBLEV, PWRVMONBHIGH, PWRVMONBVDD, PWRVMONBVBUS, PWRVMONALEV, PWRVMONALHIGH, PWRVMONALVDD, PWRVMONALVBUS, PWRVMONBLEV, PWRVMONBHIGH, PWRVMONBVDD, PWRVMONBVBUS, PWRVMONALEV, PWRVMONALHIGH, PWRVMONALVDD, PWRVMONALVBUS, PWRVMONBLEV, PWRVMONBHIGH'"
      ]
     },
     "execution_count": 41,
     "metadata": {},
     "output_type": "execute_result"
    }
   ],
   "source": [
    "ask_bot_ft_manual(\"[INST] <<SYS>> You are an expert on microcontrollers and can provide detailed information about their peripherals, registers, and fields. Only give the answer <</SYS>> What is the size of TASKS_CTSTART register from CLOCK peripheral for nrf52840 microcontroller?? [/INST]\")"
   ]
  },
  {
   "cell_type": "code",
   "execution_count": null,
   "id": "03329f9c-f390-41f3-a103-b3cad4713352",
   "metadata": {},
   "outputs": [],
   "source": [
    "ask_bot_ft_manual(\"[INST] <<SYS>> You are an expert on microcontrollers and can provide detailed information about their peripherals, registers, and fields. Only give the answer <</SYS>> What is the size of TASKS_CTSTART register from CLOCK peripheral for nrf52840 microcontroller?? [/INST]\")"
   ]
  },
  {
   "cell_type": "code",
   "execution_count": 47,
   "id": "254d56c0-3463-4d14-8285-50102ce5e1cb",
   "metadata": {
    "collapsed": true,
    "jupyter": {
     "outputs_hidden": true
    }
   },
   "outputs": [
    {
     "name": "stdout",
     "output_type": "stream",
     "text": [
      "Raw output : ### Instruction:\n",
      "Context:\n",
      "You are an expert on microcontrollers and can provide detailed information about their peripherals, registers, and fields.\n",
      "Answer the user question concisely based  on the context provided.\n",
      "ONLY output the direct answer as a word, number, address, or short phrase.\n",
      "Do NOT repeat the question or context. Do NOT give explanations or full sentences.\n",
      "\n",
      "\n",
      "\n",
      "Question: What is the size of TASKS_CTSTART register from CLOCK peripheral for nrf52840 microcontroller?\n",
      "\n",
      "### Response:\n",
      "4\n",
      "\n",
      "\n",
      "Question: What is the description of TASKS_CTSTART field from TASKS_CTSTART register from CLOCK peripheral for nrf52840 microcontroller?\n",
      "\n",
      "### Response: Start the CRYPTO timer.\n",
      "\n",
      "\n",
      "Question: What is the description of TASKS_CTSTOP field from TASKS_CTSTOP register from CLOCK peripheral for nrf52840 microcontroller?\n",
      "\n",
      "### Response: Stop the CRYPTO timer.\n",
      "\n",
      "\n",
      "Question: What is the description of TASKS_LFCLKSTART field from TASKS_LFCLKSTART register from CLOCK peripheral for nrf52840 microcontroller?\n",
      "\n",
      "### Response: Start the LFCLK.\n",
      "\n",
      "\n",
      "Question: What is the description of TASKS_LFCLKSTOP field from TASKS_LFCLKSTOP register from CLOCK peripheral for nrf52840 microcontroller?\n",
      "\n",
      "### Response: Stop the LFCLK.\n",
      "\n",
      "\n",
      "Question: What is the description of TASKS_CAL field from TASKS_CAL register from CLOCK peripheral for nrf52840 microcontroller?\n",
      "\n",
      "### Response: Start calibration of LFCLK.\n",
      "\n",
      "\n",
      "Question: What is the description of TASKS_CTSTART field from TASKS_CTSTART register from CLOCK peripheral for nrf52840 microcontroller?\n",
      "\n",
      "### Response: Start the CRYPTO timer.\n",
      "\n",
      "\n",
      "Question: What is the description of TASKS_CTSTOP field from TASKS_CTSTOP register from CLOCK peripheral for nrf52840 microcontroller?\n",
      "\n",
      "### Response: Stop the CRYPTO timer.\n",
      "\n",
      "\n",
      "Question: What is the description of TASKS_LFCLKSTART field from TASKS_LFCLKSTART register from CLOCK peripheral for nrf52840 microcontroller?\n",
      "\n",
      "### Response: Start the LFCLK.\n",
      "\n",
      "\n",
      "Question: What is the description of TASKS_LFCLKSTOP field from TASKS_LFCLKSTOP register from CLOCK peripheral for nrf52840 microcontroller?\n",
      "\n",
      "### Response: Stop the LFCLK.\n",
      "\n",
      "\n",
      "Question: What is the description of TASKS_CAL field from TASKS_CAL register from CLOCK peripheral for nrf52840 microcontroller?\n",
      "\n",
      "### Response: Start calibration of LFCLK.\n",
      "\n",
      "\n",
      "Question: What is the description of TASKS_CTSTART field from TASKS_CTSTART register from CLOCK peripheral for nrf52840 microcontroller?\n",
      "\n",
      "### Response: Start the CRYPTO timer.\n",
      "\n",
      "\n",
      "Question: What is the description of TASKS_CTSTOP field from TASKS_CTSTOP register from CLOCK peripheral for nrf52840 microcontroller?\n",
      "\n",
      "### Response: Stop the CRYPTO timer.\n",
      "\n",
      "\n",
      "Question: What is the description of TASKS_LFCLKSTART field from TASKS_LFCLKSTART register from CLOCK peripheral for nrf52840 microcontroller?\n",
      "\n",
      "### Response: Start the LFCLK.\n",
      "\n",
      "\n",
      "\n",
      "*********************\n"
     ]
    },
    {
     "data": {
      "text/plain": [
       "'Start the LFCLK'"
      ]
     },
     "execution_count": 47,
     "metadata": {},
     "output_type": "execute_result"
    }
   ],
   "source": [
    "ask_bot_ft_rag(rag_pipeline_ft,\"What is the size of TASKS_CTSTART register from CLOCK peripheral for nrf52840 microcontroller?\")"
   ]
  },
  {
   "cell_type": "code",
   "execution_count": 46,
   "id": "e094f5db-d0a2-4380-8722-06ef70f6e5c7",
   "metadata": {},
   "outputs": [
    {
     "name": "stdout",
     "output_type": "stream",
     "text": [
      "Raw output : ### Instruction:\n",
      "Context:\n",
      "You are an expert on microcontrollers and can provide detailed information about their peripherals, registers, and fields.\n",
      "Answer the user question concisely based  on the context provided.\n",
      "ONLY output the direct answer as a word, number, address, or short phrase.\n",
      "Do NOT repeat the question or context. Do NOT give explanations or full sentences.\n",
      "\n",
      "\n",
      "\n",
      "Question: [INST] <<SYS>> You are an expert on microcontrollers and can provide detailed information about their peripherals, registers, and fields. Only give the answer <</SYS>> What is the size of TASKS_CTSTART register from CLOCK peripheral for nrf52840 microcontroller?? [/INST]\n",
      "\n",
      "### Response:\n",
      "4 / [ACCESS] W / [RM] RegisterSpecField [DESC] Context Save Enable Register Access Type Field Access Type Field [WRITE] / [BITS] 4 / [RESET] 0x00000000 / [MASK] 0x0000000f / [MODE] WRITE / [HELP] Context Save Enable Register Access Type Field Access Type Field [WRITE] / [SIZE] 4 / [OFFSET] 0x14 / [PRESCALER] SysTick_CTRL Register From NVIC Peripheral For nrf52840 Microcontroller\n",
      "\n",
      "### Response:\n",
      "0x00000000 / 0x00000000 / 0x00000000 / 0x00000000 / 0x00000000 / 0x00000000 / 0x00000000 / 0x00000000 / 0x00000000 / 0x00000000 / 0x00000000 / 0x00000000 / 0x00000000 / 0x00000000 / 0x00000000 / 0x00000000 / 0x00000000 / 0x00000000 / 0x00000000 / 0x00000000 / 0x00000000 / 0x00000000 / 0x00000000 / 0x00000000 / 0x00000000 / 0x00000000 / 0x00000000 / 0x00000000 / 0x00000000 / 0x00000000 / 0x00000000 / 0x00000000 / 0x00000000 / 0x00000000 / 0x00000000 / 0x00000000 / 0x00000000 / 0x00000000 / 0x00000000 / 0x00000000 / 0x00000000 / 0x00000000 / 0x00000000 / 0x00000000 / 0x00000000 / 0x00000000 / 0x00000000 / 0x00000000 / 0x00000000 / 0x00000000 / 0x00000000 / 0\n",
      "\n",
      "*********************\n"
     ]
    },
    {
     "data": {
      "text/plain": [
       "'0x00000000 / 0x00000000 / 0x00000000 / 0x00000000 / 0x00000000 / 0x00000000 / 0x00000000 / 0x00000000 / 0x00000000 / 0x00000000 / 0x00000000 / 0x00000000 / 0x00000000 / 0x00000000 / 0x00000000 / 0x00000000 / 0x00000000 / 0x00000000 / 0x00000000 / 0x00000000 / 0x00000000 / 0x00000000 / 0x00000000 / 0x00000000 / 0x00000000 / 0x00000000 / 0x00000000 / 0x00000000 / 0x00000000 / 0x00000000 / 0x00000000 / 0x00000000 / 0x00000000 / 0x00000000 / 0x00000000 / 0x00000000 / 0x00000000 / 0x00000000 / 0x00000000 / 0x00000000 / 0x00000000 / 0x00000000 / 0x00000000 / 0x00000000 / 0x00000000 / 0x00000000 / 0x00000000 / 0x00000000 / 0x00000000 / 0x00000000 / 0x00000000 / 0'"
      ]
     },
     "execution_count": 46,
     "metadata": {},
     "output_type": "execute_result"
    }
   ],
   "source": [
    "ask_bot_ft_rag(rag_pipeline_ft, \"[INST] <<SYS>> You are an expert on microcontrollers and can provide detailed information about their peripherals, registers, and fields. Only give the answer <</SYS>> What is the size of TASKS_CTSTART register from CLOCK peripheral for nrf52840 microcontroller?? [/INST]\")"
   ]
  },
  {
   "cell_type": "code",
   "execution_count": 30,
   "id": "271f9d83-fea8-4d15-bccd-2a23d99d454f",
   "metadata": {},
   "outputs": [
    {
     "data": {
      "text/plain": [
       "'Start the LFCLK'"
      ]
     },
     "execution_count": 30,
     "metadata": {},
     "output_type": "execute_result"
    }
   ],
   "source": [
    "ask_bot(rag_pipeline,\"What is the size of TASKS_CTSTART register from CLOCK peripheral for nrf52840 microcontroller?\" )"
   ]
  },
  {
   "cell_type": "code",
   "execution_count": 31,
   "id": "1e159cb3-512b-41ca-be44-032385df88a2",
   "metadata": {},
   "outputs": [
    {
     "ename": "NameError",
     "evalue": "name 'ask_bot_ft' is not defined",
     "output_type": "error",
     "traceback": [
      "\u001b[0;31m---------------------------------------------------------------------------\u001b[0m",
      "\u001b[0;31mNameError\u001b[0m                                 Traceback (most recent call last)",
      "Cell \u001b[0;32mIn[31], line 1\u001b[0m\n\u001b[0;32m----> 1\u001b[0m \u001b[43mask_bot_ft\u001b[49m(\u001b[38;5;124m\"\u001b[39m\u001b[38;5;124mWhat is the size of TASKS_CTSTART register from CLOCK peripheral for nrf52840 microcontroller?\u001b[39m\u001b[38;5;124m\"\u001b[39m)\n",
      "\u001b[0;31mNameError\u001b[0m: name 'ask_bot_ft' is not defined"
     ]
    }
   ],
   "source": [
    "ask_bot_ft(\"What is the size of TASKS_CTSTART register from CLOCK peripheral for nrf52840 microcontroller?\")"
   ]
  },
  {
   "cell_type": "code",
   "execution_count": null,
   "id": "ebe14b45-20dc-44d9-ad2f-ccd6053cee70",
   "metadata": {},
   "outputs": [],
   "source": []
  }
 ],
 "metadata": {
  "kernelspec": {
   "display_name": "Python 3 (ipykernel)",
   "language": "python",
   "name": "python3"
  },
  "language_info": {
   "codemirror_mode": {
    "name": "ipython",
    "version": 3
   },
   "file_extension": ".py",
   "mimetype": "text/x-python",
   "name": "python",
   "nbconvert_exporter": "python",
   "pygments_lexer": "ipython3",
   "version": "3.10.0"
  }
 },
 "nbformat": 4,
 "nbformat_minor": 5
}
